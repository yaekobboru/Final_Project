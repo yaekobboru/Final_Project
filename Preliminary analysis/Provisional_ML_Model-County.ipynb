{
 "cells": [
  {
   "cell_type": "code",
   "execution_count": 1,
   "id": "657c2de7",
   "metadata": {},
   "outputs": [],
   "source": [
    "import pandas as pd\n",
    "from sklearn.linear_model import LogisticRegression\n",
    "from sklearn.model_selection import train_test_split\n",
    "from sklearn.preprocessing import StandardScaler\n",
    "from sklearn.metrics import confusion_matrix\n",
    "from sklearn.metrics import accuracy_score\n",
    "from sklearn.ensemble import RandomForestClassifier\n",
    "from sklearn.svm import SVC"
   ]
  },
  {
   "cell_type": "markdown",
   "id": "f71b08fe",
   "metadata": {},
   "source": [
    "# Read the CSV and Perform Basic Data Cleaning"
   ]
  },
  {
   "cell_type": "code",
   "execution_count": 2,
   "id": "21497e48",
   "metadata": {},
   "outputs": [
    {
     "data": {
      "text/plain": [
       "state_county           object\n",
       "Urban                 float64\n",
       "Pop2010                 int64\n",
       "OHU2010                 int64\n",
       "MedianFamilyIncome    float64\n",
       "LA1and10                int64\n",
       "LIPct                 float64\n",
       "dtype: object"
      ]
     },
     "execution_count": 2,
     "metadata": {},
     "output_type": "execute_result"
    }
   ],
   "source": [
    "# Load the data\n",
    "file = \"CountyFoodAccess.csv\"\n",
    "df = pd.read_csv(file)\n",
    "# check data type\n",
    "df.dtypes "
   ]
  },
  {
   "cell_type": "code",
   "execution_count": 3,
   "id": "b29ebc20",
   "metadata": {},
   "outputs": [
    {
     "name": "stdout",
     "output_type": "stream",
     "text": [
      "Column state_county has 0 null values\n",
      "Column Urban has 0 null values\n",
      "Column Pop2010 has 0 null values\n",
      "Column OHU2010 has 0 null values\n",
      "Column MedianFamilyIncome has 2 null values\n",
      "Column LA1and10 has 0 null values\n",
      "Column LIPct has 0 null values\n"
     ]
    }
   ],
   "source": [
    "# Find null values\n",
    "for column in df.columns :\n",
    "    print(f\"Column {column} has {df[column].isnull().sum()} null values\")"
   ]
  },
  {
   "cell_type": "code",
   "execution_count": 4,
   "id": "d3bc1d8f",
   "metadata": {},
   "outputs": [],
   "source": [
    "# Remove null rows\n",
    "#--Median Family Income has 748 null values which is 1.04%. This figure is insignificant compared to the importance of the\n",
    "#feature towards prediction. So we deciide to drop null values than remove the column.\n",
    "df=df.dropna()"
   ]
  },
  {
   "cell_type": "code",
   "execution_count": 5,
   "id": "1fac3d0b",
   "metadata": {},
   "outputs": [
    {
     "name": "stdout",
     "output_type": "stream",
     "text": [
      "Duplicate entries: 0\n"
     ]
    }
   ],
   "source": [
    "#Find duplicate entries\n",
    "print(f\"Duplicate entries: {df.duplicated().sum()}\")"
   ]
  },
  {
   "cell_type": "markdown",
   "id": "262dd318",
   "metadata": {},
   "source": [
    "# Define Model"
   ]
  },
  {
   "cell_type": "code",
   "execution_count": 6,
   "id": "dbd2cb13",
   "metadata": {},
   "outputs": [],
   "source": [
    "# Create features\n",
    "X = df.drop(columns=['state_county','MedianFamilyIncome',\"LA1and10\"]) \n",
    "\n",
    "# Create target\n",
    "y = df[\"LA1and10\"]\n",
    "\n",
    "# Split model\n",
    "X_train, X_test, y_train, y_test = train_test_split(X,\n",
    "    y, random_state=1)\n",
    "\n",
    "# Create a StandardScaler instance\n",
    "scaler = StandardScaler()\n",
    "\n",
    "# Fit the StandardScaler\n",
    "X_scaler = scaler.fit(X_train)\n",
    "\n",
    "# Scale the data\n",
    "X_train_scaled = X_scaler.transform(X_train)\n",
    "X_test_scaled = X_scaler.transform(X_test)\n"
   ]
  },
  {
   "cell_type": "markdown",
   "id": "b802d638",
   "metadata": {},
   "source": [
    "### Logistic Regression"
   ]
  },
  {
   "cell_type": "code",
   "execution_count": 7,
   "id": "6b25c2ff",
   "metadata": {},
   "outputs": [
    {
     "name": "stdout",
     "output_type": "stream",
     "text": [
      " Logistic regression model accuracy: 0.581\n"
     ]
    }
   ],
   "source": [
    "# Define model\n",
    "model = LogisticRegression(solver='lbfgs', random_state=1)\n",
    "# fit model\n",
    "\n",
    "# Fit model\n",
    "model.fit(X_train, y_train)\n",
    "# make predictions on the entire training dataset\n",
    "predictions = model.predict(X_test)\n",
    "\n",
    "# Evaluate the model\n",
    "y_pred = model.predict(X_test)\n",
    "print(f\" Logistic regression model accuracy: {accuracy_score(y_test,y_pred):.3f}\")"
   ]
  },
  {
   "cell_type": "code",
   "execution_count": 8,
   "id": "d38901af",
   "metadata": {},
   "outputs": [
    {
     "data": {
      "text/plain": [
       "array([[455,   2],\n",
       "       [327,   1]])"
      ]
     },
     "execution_count": 8,
     "metadata": {},
     "output_type": "execute_result"
    }
   ],
   "source": [
    "cm_logreg = confusion_matrix(y_test,y_pred)\n",
    "cm_logreg"
   ]
  },
  {
   "cell_type": "code",
   "execution_count": 9,
   "id": "0d2175ee",
   "metadata": {},
   "outputs": [
    {
     "name": "stdout",
     "output_type": "stream",
     "text": [
      " Logistic regression model accuracy: 0.632\n"
     ]
    }
   ],
   "source": [
    "#Run Logistic Regression on scaled data\n",
    "# Fit model\n",
    "model.fit(X_train_scaled, y_train)\n",
    "# make predictions on the entire training dataset\n",
    "predictions_scaled = model.predict(X_test_scaled)\n",
    "\n",
    "# Evaluate the model\n",
    "y_pred_scaled = model.predict(X_test_scaled)\n",
    "print(f\" Logistic regression model accuracy: {accuracy_score(y_test,y_pred_scaled):.3f}\")"
   ]
  },
  {
   "cell_type": "code",
   "execution_count": 10,
   "id": "02822a74",
   "metadata": {},
   "outputs": [
    {
     "data": {
      "text/plain": [
       "array([[339, 118],\n",
       "       [171, 157]])"
      ]
     },
     "execution_count": 10,
     "metadata": {},
     "output_type": "execute_result"
    }
   ],
   "source": [
    "confusion_matrix(y_test,y_pred_scaled)"
   ]
  },
  {
   "cell_type": "code",
   "execution_count": 11,
   "id": "103f3de5",
   "metadata": {},
   "outputs": [
    {
     "data": {
      "text/html": [
       "<div>\n",
       "<style scoped>\n",
       "    .dataframe tbody tr th:only-of-type {\n",
       "        vertical-align: middle;\n",
       "    }\n",
       "\n",
       "    .dataframe tbody tr th {\n",
       "        vertical-align: top;\n",
       "    }\n",
       "\n",
       "    .dataframe thead th {\n",
       "        text-align: right;\n",
       "    }\n",
       "</style>\n",
       "<table border=\"1\" class=\"dataframe\">\n",
       "  <thead>\n",
       "    <tr style=\"text-align: right;\">\n",
       "      <th></th>\n",
       "      <th>Prediction</th>\n",
       "      <th>Scaled Prediction</th>\n",
       "      <th>Actual</th>\n",
       "    </tr>\n",
       "  </thead>\n",
       "  <tbody>\n",
       "    <tr>\n",
       "      <th>3028</th>\n",
       "      <td>0</td>\n",
       "      <td>0</td>\n",
       "      <td>0</td>\n",
       "    </tr>\n",
       "    <tr>\n",
       "      <th>2257</th>\n",
       "      <td>0</td>\n",
       "      <td>1</td>\n",
       "      <td>0</td>\n",
       "    </tr>\n",
       "    <tr>\n",
       "      <th>2565</th>\n",
       "      <td>0</td>\n",
       "      <td>0</td>\n",
       "      <td>0</td>\n",
       "    </tr>\n",
       "    <tr>\n",
       "      <th>1876</th>\n",
       "      <td>0</td>\n",
       "      <td>0</td>\n",
       "      <td>0</td>\n",
       "    </tr>\n",
       "    <tr>\n",
       "      <th>45</th>\n",
       "      <td>0</td>\n",
       "      <td>0</td>\n",
       "      <td>1</td>\n",
       "    </tr>\n",
       "  </tbody>\n",
       "</table>\n",
       "</div>"
      ],
      "text/plain": [
       "      Prediction  Scaled Prediction  Actual\n",
       "3028           0                  0       0\n",
       "2257           0                  1       0\n",
       "2565           0                  0       0\n",
       "1876           0                  0       0\n",
       "45             0                  0       1"
      ]
     },
     "execution_count": 11,
     "metadata": {},
     "output_type": "execute_result"
    }
   ],
   "source": [
    "pd=pd.DataFrame({\"Prediction\": predictions, \"Scaled Prediction\":predictions_scaled, \"Actual\": y_test})\n",
    "pd.head()"
   ]
  },
  {
   "cell_type": "markdown",
   "id": "ff437f56",
   "metadata": {},
   "source": [
    "### Undersampling"
   ]
  },
  {
   "cell_type": "code",
   "execution_count": 12,
   "id": "abf48e3c",
   "metadata": {},
   "outputs": [],
   "source": [
    "from collections import Counter\n",
    "from imblearn.under_sampling import RandomUnderSampler"
   ]
  },
  {
   "cell_type": "code",
   "execution_count": 13,
   "id": "77f716d3",
   "metadata": {},
   "outputs": [
    {
     "data": {
      "text/plain": [
       "Counter({1: 1363, 0: 1777})"
      ]
     },
     "execution_count": 13,
     "metadata": {},
     "output_type": "execute_result"
    }
   ],
   "source": [
    "Counter(y)"
   ]
  },
  {
   "cell_type": "code",
   "execution_count": 14,
   "id": "1a1899e4",
   "metadata": {},
   "outputs": [
    {
     "data": {
      "text/plain": [
       "Counter({0: 1035, 1: 1035})"
      ]
     },
     "execution_count": 14,
     "metadata": {},
     "output_type": "execute_result"
    }
   ],
   "source": [
    "rus = RandomUnderSampler(random_state=1)\n",
    "X_resampled, y_resampled = rus.fit_resample(X_train, y_train)\n",
    "Counter(y_resampled)"
   ]
  },
  {
   "cell_type": "code",
   "execution_count": 15,
   "id": "d17ba71d",
   "metadata": {},
   "outputs": [
    {
     "name": "stdout",
     "output_type": "stream",
     "text": [
      " Resampled logistic regression model accuracy: 0.582\n"
     ]
    },
    {
     "data": {
      "text/plain": [
       "array([[416,  41],\n",
       "       [287,  41]])"
      ]
     },
     "execution_count": 15,
     "metadata": {},
     "output_type": "execute_result"
    }
   ],
   "source": [
    "# Retry Logistic Regression with undersampled data\n",
    "model.fit(X_resampled, y_resampled)\n",
    "y_pred_resamp = model.predict(X_test)\n",
    "print(f\" Resampled logistic regression model accuracy: {accuracy_score(y_test,y_pred_resamp):.3f}\")\n",
    "confusion_matrix(y_test, y_pred_resamp)"
   ]
  },
  {
   "cell_type": "markdown",
   "id": "1e0467d6",
   "metadata": {},
   "source": [
    "### SVM"
   ]
  },
  {
   "cell_type": "code",
   "execution_count": 16,
   "id": "a38c97c7",
   "metadata": {},
   "outputs": [
    {
     "name": "stdout",
     "output_type": "stream",
     "text": [
      " SVM model accuracy: 0.628\n"
     ]
    },
    {
     "data": {
      "text/plain": [
       "array([[318, 139],\n",
       "       [153, 175]])"
      ]
     },
     "execution_count": 16,
     "metadata": {},
     "output_type": "execute_result"
    }
   ],
   "source": [
    "# Create the SVM model\n",
    "svm = SVC(kernel='linear')\n",
    "\n",
    "# Train the model\n",
    "svm.fit(X_train_scaled, y_train)\n",
    "\n",
    "# Evaluate the model\n",
    "y_pred_svm = svm.predict(X_test_scaled)\n",
    "print(f\" SVM model accuracy: {accuracy_score(y_test,y_pred_svm):.3f}\")\n",
    "\n",
    "confusion_matrix(y_test, y_pred_svm)"
   ]
  },
  {
   "cell_type": "code",
   "execution_count": 17,
   "id": "7aaec955",
   "metadata": {},
   "outputs": [
    {
     "name": "stdout",
     "output_type": "stream",
     "text": [
      " SVM model accuracy: 0.661\n"
     ]
    },
    {
     "data": {
      "text/plain": [
       "array([[371,  86],\n",
       "       [180, 148]])"
      ]
     },
     "execution_count": 17,
     "metadata": {},
     "output_type": "execute_result"
    }
   ],
   "source": [
    "# Create the SVM model\n",
    "svm_rbf = SVC()\n",
    "\n",
    "# Train the model\n",
    "svm_rbf.fit(X_train_scaled, y_train)\n",
    "\n",
    "# Evaluate the model\n",
    "y_pred_svmrbf = svm_rbf.predict(X_test_scaled)\n",
    "print(f\" SVM model accuracy: {accuracy_score(y_test,y_pred_svmrbf):.3f}\")\n",
    "\n",
    "confusion_matrix(y_test, y_pred_svmrbf)"
   ]
  },
  {
   "cell_type": "markdown",
   "id": "cfbbe8b8",
   "metadata": {},
   "source": [
    "### Random Forest"
   ]
  },
  {
   "cell_type": "code",
   "execution_count": 18,
   "id": "14962507",
   "metadata": {},
   "outputs": [],
   "source": [
    "# Create Random Forest Classifier model\n",
    "rf_model = RandomForestClassifier(n_estimators=100, random_state=78) "
   ]
  },
  {
   "cell_type": "code",
   "execution_count": 19,
   "id": "2b7f447a",
   "metadata": {},
   "outputs": [
    {
     "name": "stdout",
     "output_type": "stream",
     "text": [
      "Random Forest model accuracy: 0.646\n"
     ]
    }
   ],
   "source": [
    "# Fitting the model\n",
    "rf_model = rf_model.fit(X_train_scaled, y_train)\n",
    "# Making predictions using the testing data.\n",
    "rf_y_pred = rf_model.predict(X_test_scaled)\n",
    "# Evaluate the model\n",
    "print(f\"Random Forest model accuracy: {accuracy_score(y_test,rf_y_pred):.3f}\")"
   ]
  },
  {
   "cell_type": "code",
   "execution_count": 20,
   "id": "942efb35",
   "metadata": {},
   "outputs": [
    {
     "data": {
      "text/plain": [
       "array([[328, 129],\n",
       "       [149, 179]])"
      ]
     },
     "execution_count": 20,
     "metadata": {},
     "output_type": "execute_result"
    }
   ],
   "source": [
    "confusion_matrix(y_test,rf_y_pred)"
   ]
  },
  {
   "cell_type": "code",
   "execution_count": 21,
   "id": "4dcd1942",
   "metadata": {},
   "outputs": [
    {
     "data": {
      "text/plain": [
       "array([0.27035658, 0.24893944, 0.26013095, 0.22057303])"
      ]
     },
     "execution_count": 21,
     "metadata": {},
     "output_type": "execute_result"
    }
   ],
   "source": [
    "rf_model.feature_importances_\n"
   ]
  },
  {
   "cell_type": "markdown",
   "id": "1dd7136f",
   "metadata": {},
   "source": [
    "### Neural Network"
   ]
  },
  {
   "cell_type": "code",
   "execution_count": 22,
   "id": "c521ea0e",
   "metadata": {},
   "outputs": [],
   "source": [
    "import tensorflow as tf"
   ]
  },
  {
   "cell_type": "code",
   "execution_count": 28,
   "id": "310d4357",
   "metadata": {},
   "outputs": [
    {
     "name": "stdout",
     "output_type": "stream",
     "text": [
      "Epoch 1/150\n",
      "74/74 [==============================] - 1s 1ms/step - loss: 0.6942 - accuracy: 0.5737\n",
      "Epoch 2/150\n",
      "74/74 [==============================] - 0s 1ms/step - loss: 0.6728 - accuracy: 0.5902\n",
      "Epoch 3/150\n",
      "74/74 [==============================] - 0s 1ms/step - loss: 0.6645 - accuracy: 0.6403\n",
      "Epoch 4/150\n",
      "74/74 [==============================] - 0s 1ms/step - loss: 0.6591 - accuracy: 0.6505\n",
      "Epoch 5/150\n",
      "74/74 [==============================] - 0s 1ms/step - loss: 0.6547 - accuracy: 0.6573\n",
      "Epoch 6/150\n",
      "74/74 [==============================] - 0s 1ms/step - loss: 0.6502 - accuracy: 0.6620\n",
      "Epoch 7/150\n",
      "74/74 [==============================] - 0s 1ms/step - loss: 0.6466 - accuracy: 0.6603\n",
      "Epoch 8/150\n",
      "74/74 [==============================] - 0s 1ms/step - loss: 0.6431 - accuracy: 0.6616\n",
      "Epoch 9/150\n",
      "74/74 [==============================] - 0s 1ms/step - loss: 0.6400 - accuracy: 0.6607\n",
      "Epoch 10/150\n",
      "74/74 [==============================] - 0s 1ms/step - loss: 0.6379 - accuracy: 0.6611\n",
      "Epoch 11/150\n",
      "74/74 [==============================] - 0s 1ms/step - loss: 0.6353 - accuracy: 0.6645\n",
      "Epoch 12/150\n",
      "74/74 [==============================] - 0s 1ms/step - loss: 0.6331 - accuracy: 0.6624\n",
      "Epoch 13/150\n",
      "74/74 [==============================] - 0s 1ms/step - loss: 0.6315 - accuracy: 0.6637\n",
      "Epoch 14/150\n",
      "74/74 [==============================] - 0s 1ms/step - loss: 0.6299 - accuracy: 0.6645\n",
      "Epoch 15/150\n",
      "74/74 [==============================] - 0s 1ms/step - loss: 0.6281 - accuracy: 0.6633\n",
      "Epoch 16/150\n",
      "74/74 [==============================] - 0s 1ms/step - loss: 0.6269 - accuracy: 0.6650\n",
      "Epoch 17/150\n",
      "74/74 [==============================] - 0s 2ms/step - loss: 0.6253 - accuracy: 0.6667\n",
      "Epoch 18/150\n",
      "74/74 [==============================] - 0s 2ms/step - loss: 0.6234 - accuracy: 0.6650\n",
      "Epoch 19/150\n",
      "74/74 [==============================] - 0s 1ms/step - loss: 0.6225 - accuracy: 0.6637\n",
      "Epoch 20/150\n",
      "74/74 [==============================] - 0s 1ms/step - loss: 0.6212 - accuracy: 0.6624\n",
      "Epoch 21/150\n",
      "74/74 [==============================] - 0s 1ms/step - loss: 0.6195 - accuracy: 0.6650\n",
      "Epoch 22/150\n",
      "74/74 [==============================] - 0s 1ms/step - loss: 0.6185 - accuracy: 0.6620\n",
      "Epoch 23/150\n",
      "74/74 [==============================] - 0s 1ms/step - loss: 0.6171 - accuracy: 0.6650\n",
      "Epoch 24/150\n",
      "74/74 [==============================] - 0s 1ms/step - loss: 0.6168 - accuracy: 0.6679\n",
      "Epoch 25/150\n",
      "74/74 [==============================] - 0s 2ms/step - loss: 0.6147 - accuracy: 0.6645\n",
      "Epoch 26/150\n",
      "74/74 [==============================] - 0s 2ms/step - loss: 0.6133 - accuracy: 0.6658\n",
      "Epoch 27/150\n",
      "74/74 [==============================] - 0s 1ms/step - loss: 0.6126 - accuracy: 0.6633\n",
      "Epoch 28/150\n",
      "74/74 [==============================] - 0s 1ms/step - loss: 0.6116 - accuracy: 0.6628\n",
      "Epoch 29/150\n",
      "74/74 [==============================] - 0s 1ms/step - loss: 0.6105 - accuracy: 0.6645\n",
      "Epoch 30/150\n",
      "74/74 [==============================] - 0s 1ms/step - loss: 0.6092 - accuracy: 0.6628\n",
      "Epoch 31/150\n",
      "74/74 [==============================] - 0s 1ms/step - loss: 0.6087 - accuracy: 0.6611\n",
      "Epoch 32/150\n",
      "74/74 [==============================] - 0s 1ms/step - loss: 0.6078 - accuracy: 0.6611\n",
      "Epoch 33/150\n",
      "74/74 [==============================] - 0s 1ms/step - loss: 0.6067 - accuracy: 0.6675\n",
      "Epoch 34/150\n",
      "74/74 [==============================] - 0s 1ms/step - loss: 0.6066 - accuracy: 0.6641\n",
      "Epoch 35/150\n",
      "74/74 [==============================] - 0s 1ms/step - loss: 0.6059 - accuracy: 0.6671\n",
      "Epoch 36/150\n",
      "74/74 [==============================] - 0s 1ms/step - loss: 0.6051 - accuracy: 0.6671\n",
      "Epoch 37/150\n",
      "74/74 [==============================] - 0s 1ms/step - loss: 0.6043 - accuracy: 0.6645\n",
      "Epoch 38/150\n",
      "74/74 [==============================] - 0s 2ms/step - loss: 0.6032 - accuracy: 0.6658\n",
      "Epoch 39/150\n",
      "74/74 [==============================] - 0s 1ms/step - loss: 0.6022 - accuracy: 0.6684\n",
      "Epoch 40/150\n",
      "74/74 [==============================] - 0s 1ms/step - loss: 0.6028 - accuracy: 0.6662\n",
      "Epoch 41/150\n",
      "74/74 [==============================] - 0s 1ms/step - loss: 0.6016 - accuracy: 0.6671\n",
      "Epoch 42/150\n",
      "74/74 [==============================] - 0s 2ms/step - loss: 0.6005 - accuracy: 0.6709\n",
      "Epoch 43/150\n",
      "74/74 [==============================] - 0s 2ms/step - loss: 0.6016 - accuracy: 0.6701\n",
      "Epoch 44/150\n",
      "74/74 [==============================] - 0s 2ms/step - loss: 0.5999 - accuracy: 0.6743\n",
      "Epoch 45/150\n",
      "74/74 [==============================] - 0s 2ms/step - loss: 0.5989 - accuracy: 0.6718\n",
      "Epoch 46/150\n",
      "74/74 [==============================] - 0s 1ms/step - loss: 0.5982 - accuracy: 0.6718\n",
      "Epoch 47/150\n",
      "74/74 [==============================] - 0s 1ms/step - loss: 0.5980 - accuracy: 0.6730\n",
      "Epoch 48/150\n",
      "74/74 [==============================] - 0s 1ms/step - loss: 0.5974 - accuracy: 0.6726\n",
      "Epoch 49/150\n",
      "74/74 [==============================] - 0s 1ms/step - loss: 0.5966 - accuracy: 0.6718\n",
      "Epoch 50/150\n",
      "74/74 [==============================] - 0s 2ms/step - loss: 0.5968 - accuracy: 0.6709\n",
      "Epoch 51/150\n",
      "74/74 [==============================] - 0s 1ms/step - loss: 0.5948 - accuracy: 0.6752\n",
      "Epoch 52/150\n",
      "74/74 [==============================] - 0s 1ms/step - loss: 0.5949 - accuracy: 0.6739\n",
      "Epoch 53/150\n",
      "74/74 [==============================] - 0s 2ms/step - loss: 0.5947 - accuracy: 0.6739\n",
      "Epoch 54/150\n",
      "74/74 [==============================] - 0s 1ms/step - loss: 0.5940 - accuracy: 0.6756\n",
      "Epoch 55/150\n",
      "74/74 [==============================] - 0s 1ms/step - loss: 0.5921 - accuracy: 0.6798\n",
      "Epoch 56/150\n",
      "74/74 [==============================] - 0s 1ms/step - loss: 0.5930 - accuracy: 0.6777\n",
      "Epoch 57/150\n",
      "74/74 [==============================] - 0s 1ms/step - loss: 0.5925 - accuracy: 0.6854\n",
      "Epoch 58/150\n",
      "74/74 [==============================] - 0s 1ms/step - loss: 0.5924 - accuracy: 0.6747\n",
      "Epoch 59/150\n",
      "74/74 [==============================] - 0s 1ms/step - loss: 0.5924 - accuracy: 0.6820\n",
      "Epoch 60/150\n",
      "74/74 [==============================] - 0s 1ms/step - loss: 0.5917 - accuracy: 0.6811\n",
      "Epoch 61/150\n",
      "74/74 [==============================] - 0s 1ms/step - loss: 0.5907 - accuracy: 0.6807\n",
      "Epoch 62/150\n",
      "74/74 [==============================] - 0s 1ms/step - loss: 0.5907 - accuracy: 0.6837\n",
      "Epoch 63/150\n",
      "74/74 [==============================] - 0s 1ms/step - loss: 0.5904 - accuracy: 0.6849\n",
      "Epoch 64/150\n",
      "74/74 [==============================] - 0s 1ms/step - loss: 0.5897 - accuracy: 0.6786\n",
      "Epoch 65/150\n",
      "74/74 [==============================] - 0s 1ms/step - loss: 0.5892 - accuracy: 0.6921\n",
      "Epoch 66/150\n",
      "74/74 [==============================] - 0s 1ms/step - loss: 0.5889 - accuracy: 0.6820\n",
      "Epoch 67/150\n",
      "74/74 [==============================] - 0s 1ms/step - loss: 0.5891 - accuracy: 0.6887\n",
      "Epoch 68/150\n",
      "74/74 [==============================] - 0s 1ms/step - loss: 0.5886 - accuracy: 0.6832\n",
      "Epoch 69/150\n",
      "74/74 [==============================] - 0s 1ms/step - loss: 0.5885 - accuracy: 0.6862\n",
      "Epoch 70/150\n",
      "74/74 [==============================] - 0s 1ms/step - loss: 0.5881 - accuracy: 0.6858\n",
      "Epoch 71/150\n",
      "74/74 [==============================] - 0s 1ms/step - loss: 0.5876 - accuracy: 0.6828\n",
      "Epoch 72/150\n",
      "74/74 [==============================] - 0s 1ms/step - loss: 0.5866 - accuracy: 0.6870\n",
      "Epoch 73/150\n",
      "74/74 [==============================] - 0s 1ms/step - loss: 0.5863 - accuracy: 0.6934\n",
      "Epoch 74/150\n",
      "74/74 [==============================] - 0s 1ms/step - loss: 0.5865 - accuracy: 0.6781\n",
      "Epoch 75/150\n",
      "74/74 [==============================] - 0s 1ms/step - loss: 0.5857 - accuracy: 0.6892\n",
      "Epoch 76/150\n",
      "74/74 [==============================] - 0s 1ms/step - loss: 0.5849 - accuracy: 0.6837\n",
      "Epoch 77/150\n",
      "74/74 [==============================] - 0s 1ms/step - loss: 0.5854 - accuracy: 0.6930\n",
      "Epoch 78/150\n",
      "74/74 [==============================] - 0s 1ms/step - loss: 0.5846 - accuracy: 0.6875\n",
      "Epoch 79/150\n",
      "74/74 [==============================] - 0s 1ms/step - loss: 0.5856 - accuracy: 0.6883\n",
      "Epoch 80/150\n",
      "74/74 [==============================] - 0s 1ms/step - loss: 0.5834 - accuracy: 0.6904\n",
      "Epoch 81/150\n",
      "74/74 [==============================] - 0s 1ms/step - loss: 0.5843 - accuracy: 0.6926\n",
      "Epoch 82/150\n",
      "74/74 [==============================] - 0s 1ms/step - loss: 0.5840 - accuracy: 0.6913\n",
      "Epoch 83/150\n"
     ]
    },
    {
     "name": "stdout",
     "output_type": "stream",
     "text": [
      "74/74 [==============================] - 0s 1ms/step - loss: 0.5842 - accuracy: 0.6811\n",
      "Epoch 84/150\n",
      "74/74 [==============================] - 0s 1ms/step - loss: 0.5832 - accuracy: 0.6913\n",
      "Epoch 85/150\n",
      "74/74 [==============================] - 0s 1ms/step - loss: 0.5827 - accuracy: 0.6900\n",
      "Epoch 86/150\n",
      "74/74 [==============================] - 0s 1ms/step - loss: 0.5810 - accuracy: 0.6947\n",
      "Epoch 87/150\n",
      "74/74 [==============================] - 0s 1ms/step - loss: 0.5829 - accuracy: 0.6887\n",
      "Epoch 88/150\n",
      "74/74 [==============================] - 0s 1ms/step - loss: 0.5810 - accuracy: 0.6849\n",
      "Epoch 89/150\n",
      "74/74 [==============================] - 0s 1ms/step - loss: 0.5820 - accuracy: 0.6989\n",
      "Epoch 90/150\n",
      "74/74 [==============================] - 0s 1ms/step - loss: 0.5813 - accuracy: 0.6917\n",
      "Epoch 91/150\n",
      "74/74 [==============================] - 0s 1ms/step - loss: 0.5807 - accuracy: 0.6943\n",
      "Epoch 92/150\n",
      "74/74 [==============================] - 0s 1ms/step - loss: 0.5806 - accuracy: 0.6934\n",
      "Epoch 93/150\n",
      "74/74 [==============================] - 0s 1ms/step - loss: 0.5807 - accuracy: 0.6904\n",
      "Epoch 94/150\n",
      "74/74 [==============================] - 0s 1ms/step - loss: 0.5798 - accuracy: 0.6921\n",
      "Epoch 95/150\n",
      "74/74 [==============================] - 0s 1ms/step - loss: 0.5800 - accuracy: 0.6909\n",
      "Epoch 96/150\n",
      "74/74 [==============================] - 0s 1ms/step - loss: 0.5795 - accuracy: 0.6960\n",
      "Epoch 97/150\n",
      "74/74 [==============================] - 0s 1ms/step - loss: 0.5794 - accuracy: 0.6930\n",
      "Epoch 98/150\n",
      "74/74 [==============================] - 0s 1ms/step - loss: 0.5798 - accuracy: 0.6934\n",
      "Epoch 99/150\n",
      "74/74 [==============================] - 0s 1ms/step - loss: 0.5803 - accuracy: 0.6887\n",
      "Epoch 100/150\n",
      "74/74 [==============================] - 0s 1ms/step - loss: 0.5788 - accuracy: 0.6934\n",
      "Epoch 101/150\n",
      "74/74 [==============================] - 0s 1ms/step - loss: 0.5785 - accuracy: 0.6917\n",
      "Epoch 102/150\n",
      "74/74 [==============================] - 0s 1ms/step - loss: 0.5797 - accuracy: 0.6900\n",
      "Epoch 103/150\n",
      "74/74 [==============================] - 0s 1ms/step - loss: 0.5784 - accuracy: 0.6981\n",
      "Epoch 104/150\n",
      "74/74 [==============================] - 0s 1ms/step - loss: 0.5775 - accuracy: 0.6955\n",
      "Epoch 105/150\n",
      "74/74 [==============================] - 0s 1ms/step - loss: 0.5787 - accuracy: 0.6921\n",
      "Epoch 106/150\n",
      "74/74 [==============================] - 0s 1ms/step - loss: 0.5778 - accuracy: 0.6989\n",
      "Epoch 107/150\n",
      "74/74 [==============================] - 0s 1ms/step - loss: 0.5778 - accuracy: 0.6998\n",
      "Epoch 108/150\n",
      "74/74 [==============================] - 0s 1ms/step - loss: 0.5780 - accuracy: 0.6951\n",
      "Epoch 109/150\n",
      "74/74 [==============================] - 0s 1ms/step - loss: 0.5769 - accuracy: 0.6951\n",
      "Epoch 110/150\n",
      "74/74 [==============================] - 0s 1ms/step - loss: 0.5768 - accuracy: 0.6994\n",
      "Epoch 111/150\n",
      "74/74 [==============================] - 0s 1ms/step - loss: 0.5765 - accuracy: 0.6926\n",
      "Epoch 112/150\n",
      "74/74 [==============================] - 0s 1ms/step - loss: 0.5774 - accuracy: 0.6994\n",
      "Epoch 113/150\n",
      "74/74 [==============================] - 0s 1ms/step - loss: 0.5768 - accuracy: 0.6977\n",
      "Epoch 114/150\n",
      "74/74 [==============================] - 0s 1ms/step - loss: 0.5759 - accuracy: 0.6977\n",
      "Epoch 115/150\n",
      "74/74 [==============================] - 0s 1ms/step - loss: 0.5756 - accuracy: 0.6994\n",
      "Epoch 116/150\n",
      "74/74 [==============================] - 0s 1ms/step - loss: 0.5766 - accuracy: 0.6917\n",
      "Epoch 117/150\n",
      "74/74 [==============================] - 0s 1ms/step - loss: 0.5755 - accuracy: 0.6934\n",
      "Epoch 118/150\n",
      "74/74 [==============================] - 0s 1ms/step - loss: 0.5761 - accuracy: 0.7011\n",
      "Epoch 119/150\n",
      "74/74 [==============================] - 0s 1ms/step - loss: 0.5764 - accuracy: 0.6972\n",
      "Epoch 120/150\n",
      "74/74 [==============================] - 0s 1ms/step - loss: 0.5748 - accuracy: 0.6955\n",
      "Epoch 121/150\n",
      "74/74 [==============================] - 0s 1ms/step - loss: 0.5750 - accuracy: 0.7011\n",
      "Epoch 122/150\n",
      "74/74 [==============================] - 0s 1ms/step - loss: 0.5758 - accuracy: 0.6960\n",
      "Epoch 123/150\n",
      "74/74 [==============================] - 0s 1ms/step - loss: 0.5759 - accuracy: 0.7015\n",
      "Epoch 124/150\n",
      "74/74 [==============================] - 0s 1ms/step - loss: 0.5748 - accuracy: 0.6998\n",
      "Epoch 125/150\n",
      "74/74 [==============================] - 0s 1ms/step - loss: 0.5754 - accuracy: 0.6947\n",
      "Epoch 126/150\n",
      "74/74 [==============================] - 0s 1ms/step - loss: 0.5746 - accuracy: 0.6955\n",
      "Epoch 127/150\n",
      "74/74 [==============================] - 0s 1ms/step - loss: 0.5763 - accuracy: 0.6972\n",
      "Epoch 128/150\n",
      "74/74 [==============================] - 0s 1ms/step - loss: 0.5740 - accuracy: 0.7032\n",
      "Epoch 129/150\n",
      "74/74 [==============================] - 0s 1ms/step - loss: 0.5755 - accuracy: 0.6904\n",
      "Epoch 130/150\n",
      "74/74 [==============================] - 0s 1ms/step - loss: 0.5755 - accuracy: 0.6917\n",
      "Epoch 131/150\n",
      "74/74 [==============================] - 0s 1ms/step - loss: 0.5761 - accuracy: 0.6938\n",
      "Epoch 132/150\n",
      "74/74 [==============================] - 0s 1ms/step - loss: 0.5744 - accuracy: 0.6909\n",
      "Epoch 133/150\n",
      "74/74 [==============================] - 0s 1ms/step - loss: 0.5755 - accuracy: 0.6960\n",
      "Epoch 134/150\n",
      "74/74 [==============================] - 0s 1ms/step - loss: 0.5749 - accuracy: 0.6887\n",
      "Epoch 135/150\n",
      "74/74 [==============================] - 0s 1ms/step - loss: 0.5735 - accuracy: 0.6972\n",
      "Epoch 136/150\n",
      "74/74 [==============================] - 0s 1ms/step - loss: 0.5748 - accuracy: 0.6934\n",
      "Epoch 137/150\n",
      "74/74 [==============================] - 0s 1ms/step - loss: 0.5741 - accuracy: 0.6998\n",
      "Epoch 138/150\n",
      "74/74 [==============================] - 0s 1ms/step - loss: 0.5742 - accuracy: 0.6883\n",
      "Epoch 139/150\n",
      "74/74 [==============================] - 0s 1ms/step - loss: 0.5744 - accuracy: 0.6985\n",
      "Epoch 140/150\n",
      "74/74 [==============================] - 0s 1ms/step - loss: 0.5741 - accuracy: 0.7045\n",
      "Epoch 141/150\n",
      "74/74 [==============================] - 0s 1ms/step - loss: 0.5756 - accuracy: 0.6964\n",
      "Epoch 142/150\n",
      "74/74 [==============================] - 0s 1ms/step - loss: 0.5727 - accuracy: 0.6972\n",
      "Epoch 143/150\n",
      "74/74 [==============================] - 0s 1ms/step - loss: 0.5745 - accuracy: 0.6960\n",
      "Epoch 144/150\n",
      "74/74 [==============================] - 0s 1ms/step - loss: 0.5729 - accuracy: 0.6930\n",
      "Epoch 145/150\n",
      "74/74 [==============================] - 0s 1ms/step - loss: 0.5728 - accuracy: 0.6951\n",
      "Epoch 146/150\n",
      "74/74 [==============================] - 0s 1ms/step - loss: 0.5732 - accuracy: 0.6998\n",
      "Epoch 147/150\n",
      "74/74 [==============================] - 0s 1ms/step - loss: 0.5725 - accuracy: 0.7019\n",
      "Epoch 148/150\n",
      "74/74 [==============================] - 0s 1ms/step - loss: 0.5730 - accuracy: 0.6917\n",
      "Epoch 149/150\n",
      "74/74 [==============================] - 0s 1ms/step - loss: 0.5733 - accuracy: 0.6977\n",
      "Epoch 150/150\n",
      "74/74 [==============================] - 0s 1ms/step - loss: 0.5726 - accuracy: 0.6989\n",
      "25/25 - 0s - loss: 0.5853 - accuracy: 0.6994\n",
      "Loss: 0.5852717757225037, Accuracy: 0.6993630528450012\n"
     ]
    }
   ],
   "source": [
    "# Define neural network model\n",
    "nn_model = tf.keras.models.Sequential()\n",
    "nn_model.add(tf.keras.layers.Dense(units=12, activation=\"relu\", input_dim=4))\n",
    "nn_model.add(tf.keras.layers.Dense(units=6, activation=\"relu\"))\n",
    "nn_model.add(tf.keras.layers.Dense(units=1, activation=\"sigmoid\"))\n",
    "\n",
    "# Compile the Sequential model together and customize metrics\n",
    "nn_model.compile(loss=\"binary_crossentropy\", optimizer=\"adam\", metrics=[\"accuracy\"])\n",
    "\n",
    "# Train the model\n",
    "fit_model = nn_model.fit(X_train_scaled, y_train, epochs=150)\n",
    "\n",
    "# Evaluate the model using the test data\n",
    "model_loss, model_accuracy = nn_model.evaluate(X_test_scaled,y_test,verbose=2)\n",
    "print(f\"Loss: {model_loss}, Accuracy: {model_accuracy}\")"
   ]
  },
  {
   "cell_type": "code",
   "execution_count": 24,
   "id": "d80b7c1e",
   "metadata": {},
   "outputs": [
    {
     "name": "stdout",
     "output_type": "stream",
     "text": [
      "Logistic Regression: 0.581\n",
      "Scaled Logistic Regression: 0.632\n",
      "Undersampled Logistic Regression: 0.582\n",
      "SVM Accuracy: 0.628\n"
     ]
    }
   ],
   "source": [
    "print(f'Logistic Regression: {accuracy_score(y_test,y_pred):.3f}')\n",
    "print(f'Scaled Logistic Regression: {accuracy_score(y_test,y_pred_scaled):.3f}')\n",
    "print(f'Undersampled Logistic Regression: {accuracy_score(y_test,y_pred_resamp):.3f}')\n",
    "print(f'SVM Accuracy: {accuracy_score(y_test,y_pred_svm):.3f}')"
   ]
  }
 ],
 "metadata": {
  "interpreter": {
   "hash": "86969af4118fd2beaee010b14a97d3c8fe7dc31ff55f1528eea7eaecb45368d6"
  },
  "kernelspec": {
   "display_name": "mlenv",
   "language": "python",
   "name": "mlenv"
  },
  "language_info": {
   "codemirror_mode": {
    "name": "ipython",
    "version": 3
   },
   "file_extension": ".py",
   "mimetype": "text/x-python",
   "name": "python",
   "nbconvert_exporter": "python",
   "pygments_lexer": "ipython3",
   "version": "3.7.10"
  }
 },
 "nbformat": 4,
 "nbformat_minor": 5
}
