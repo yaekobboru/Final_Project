{
 "cells": [
  {
   "cell_type": "code",
   "execution_count": 1,
   "id": "657c2de7",
   "metadata": {},
   "outputs": [],
   "source": [
    "import pandas as pd\n",
    "from sklearn.linear_model import LogisticRegression\n",
    "from sklearn.model_selection import train_test_split\n",
    "from sklearn.preprocessing import StandardScaler\n",
    "from sklearn.metrics import confusion_matrix\n",
    "from sklearn.metrics import accuracy_score\n",
    "from sklearn.ensemble import RandomForestClassifier\n",
    "from sklearn.svm import SVC"
   ]
  },
  {
   "cell_type": "markdown",
   "id": "f71b08fe",
   "metadata": {},
   "source": [
    "# Read the CSV and Perform Basic Data Cleaning"
   ]
  },
  {
   "cell_type": "code",
   "execution_count": 2,
   "id": "21497e48",
   "metadata": {},
   "outputs": [
    {
     "data": {
      "text/plain": [
       "state_county         object\n",
       "Pop2010               int64\n",
       "PctLA               float64\n",
       "PctWhite            float64\n",
       "PctBlack            float64\n",
       "PctHispanic         float64\n",
       "PctOtherMinority    float64\n",
       "LA1and10              int64\n",
       "dtype: object"
      ]
     },
     "execution_count": 2,
     "metadata": {},
     "output_type": "execute_result"
    }
   ],
   "source": [
    "# Load the data\n",
    "file = 'CountyAccessDemographics.csv'\n",
    "df = pd.read_csv(file)\n",
    "# check data type\n",
    "df.dtypes "
   ]
  },
  {
   "cell_type": "code",
   "execution_count": 3,
   "id": "b29ebc20",
   "metadata": {},
   "outputs": [
    {
     "name": "stdout",
     "output_type": "stream",
     "text": [
      "Column state_county has 0 null values\n",
      "Column Pop2010 has 0 null values\n",
      "Column PctLA has 0 null values\n",
      "Column PctWhite has 0 null values\n",
      "Column PctBlack has 0 null values\n",
      "Column PctHispanic has 0 null values\n",
      "Column PctOtherMinority has 0 null values\n",
      "Column LA1and10 has 0 null values\n"
     ]
    }
   ],
   "source": [
    "# Find null values\n",
    "for column in df.columns :\n",
    "    print(f\"Column {column} has {df[column].isnull().sum()} null values\")"
   ]
  },
  {
   "cell_type": "code",
   "execution_count": 4,
   "id": "d3bc1d8f",
   "metadata": {},
   "outputs": [],
   "source": [
    "# Remove null rows\n",
    "#--Median Family Income has 748 null values which is 1.04%. This figure is insignificant compared to the importance of the\n",
    "#feature towards prediction. So we deciide to drop null values than remove the column.\n",
    "df=df.dropna()"
   ]
  },
  {
   "cell_type": "code",
   "execution_count": 5,
   "id": "1fac3d0b",
   "metadata": {},
   "outputs": [
    {
     "name": "stdout",
     "output_type": "stream",
     "text": [
      "Duplicate entries: 0\n"
     ]
    }
   ],
   "source": [
    "#Find duplicate entries\n",
    "print(f\"Duplicate entries: {df.duplicated().sum()}\")"
   ]
  },
  {
   "cell_type": "markdown",
   "id": "262dd318",
   "metadata": {},
   "source": [
    "# Define Model"
   ]
  },
  {
   "cell_type": "code",
   "execution_count": 7,
   "id": "dbd2cb13",
   "metadata": {},
   "outputs": [],
   "source": [
    "# Create features\n",
    "X = df.drop(columns=['state_county',\"LA1and10\"]) \n",
    "\n",
    "# Create target\n",
    "y = df[\"LA1and10\"]\n",
    "\n",
    "# Split model\n",
    "X_train, X_test, y_train, y_test = train_test_split(X,\n",
    "    y, random_state=1)\n",
    "\n",
    "# Create a StandardScaler instance\n",
    "scaler = StandardScaler()\n",
    "\n",
    "# Fit the StandardScaler\n",
    "X_scaler = scaler.fit(X_train)\n",
    "\n",
    "# Scale the data\n",
    "X_train_scaled = X_scaler.transform(X_train)\n",
    "X_test_scaled = X_scaler.transform(X_test)\n"
   ]
  },
  {
   "cell_type": "markdown",
   "id": "b802d638",
   "metadata": {},
   "source": [
    "### Logistic Regression"
   ]
  },
  {
   "cell_type": "code",
   "execution_count": 8,
   "id": "6b25c2ff",
   "metadata": {},
   "outputs": [
    {
     "name": "stdout",
     "output_type": "stream",
     "text": [
      " Logistic regression model accuracy: 0.721\n"
     ]
    }
   ],
   "source": [
    "# Define model\n",
    "model = LogisticRegression(solver='lbfgs', random_state=1)\n",
    "# fit model\n",
    "\n",
    "# Fit model\n",
    "model.fit(X_train, y_train)\n",
    "# make predictions on the entire training dataset\n",
    "predictions = model.predict(X_test)\n",
    "\n",
    "# Evaluate the model\n",
    "y_pred = model.predict(X_test)\n",
    "print(f\" Logistic regression model accuracy: {accuracy_score(y_test,y_pred):.3f}\")"
   ]
  },
  {
   "cell_type": "code",
   "execution_count": 9,
   "id": "d38901af",
   "metadata": {},
   "outputs": [
    {
     "data": {
      "text/plain": [
       "array([[567,   0],\n",
       "       [219,   0]])"
      ]
     },
     "execution_count": 9,
     "metadata": {},
     "output_type": "execute_result"
    }
   ],
   "source": [
    "cm_logreg = confusion_matrix(y_test,y_pred)\n",
    "cm_logreg"
   ]
  },
  {
   "cell_type": "code",
   "execution_count": 10,
   "id": "0d2175ee",
   "metadata": {},
   "outputs": [
    {
     "name": "stdout",
     "output_type": "stream",
     "text": [
      " Logistic regression model accuracy: 0.821\n"
     ]
    }
   ],
   "source": [
    "#Run Logistic Regression on scaled data\n",
    "# Fit model\n",
    "model.fit(X_train_scaled, y_train)\n",
    "# make predictions on the entire training dataset\n",
    "predictions_scaled = model.predict(X_test_scaled)\n",
    "\n",
    "# Evaluate the model\n",
    "y_pred_scaled = model.predict(X_test_scaled)\n",
    "print(f\" Logistic regression model accuracy: {accuracy_score(y_test,y_pred_scaled):.3f}\")"
   ]
  },
  {
   "cell_type": "code",
   "execution_count": 11,
   "id": "02822a74",
   "metadata": {},
   "outputs": [
    {
     "data": {
      "text/plain": [
       "array([[529,  38],\n",
       "       [103, 116]])"
      ]
     },
     "execution_count": 11,
     "metadata": {},
     "output_type": "execute_result"
    }
   ],
   "source": [
    "confusion_matrix(y_test,y_pred_scaled)"
   ]
  },
  {
   "cell_type": "code",
   "execution_count": 12,
   "id": "103f3de5",
   "metadata": {},
   "outputs": [
    {
     "data": {
      "text/html": [
       "<div>\n",
       "<style scoped>\n",
       "    .dataframe tbody tr th:only-of-type {\n",
       "        vertical-align: middle;\n",
       "    }\n",
       "\n",
       "    .dataframe tbody tr th {\n",
       "        vertical-align: top;\n",
       "    }\n",
       "\n",
       "    .dataframe thead th {\n",
       "        text-align: right;\n",
       "    }\n",
       "</style>\n",
       "<table border=\"1\" class=\"dataframe\">\n",
       "  <thead>\n",
       "    <tr style=\"text-align: right;\">\n",
       "      <th></th>\n",
       "      <th>Prediction</th>\n",
       "      <th>Scaled Prediction</th>\n",
       "      <th>Actual</th>\n",
       "    </tr>\n",
       "  </thead>\n",
       "  <tbody>\n",
       "    <tr>\n",
       "      <th>1760</th>\n",
       "      <td>0</td>\n",
       "      <td>0</td>\n",
       "      <td>1</td>\n",
       "    </tr>\n",
       "    <tr>\n",
       "      <th>1735</th>\n",
       "      <td>0</td>\n",
       "      <td>0</td>\n",
       "      <td>1</td>\n",
       "    </tr>\n",
       "    <tr>\n",
       "      <th>1186</th>\n",
       "      <td>0</td>\n",
       "      <td>0</td>\n",
       "      <td>0</td>\n",
       "    </tr>\n",
       "    <tr>\n",
       "      <th>2803</th>\n",
       "      <td>0</td>\n",
       "      <td>0</td>\n",
       "      <td>1</td>\n",
       "    </tr>\n",
       "    <tr>\n",
       "      <th>3</th>\n",
       "      <td>0</td>\n",
       "      <td>0</td>\n",
       "      <td>0</td>\n",
       "    </tr>\n",
       "  </tbody>\n",
       "</table>\n",
       "</div>"
      ],
      "text/plain": [
       "      Prediction  Scaled Prediction  Actual\n",
       "1760           0                  0       1\n",
       "1735           0                  0       1\n",
       "1186           0                  0       0\n",
       "2803           0                  0       1\n",
       "3              0                  0       0"
      ]
     },
     "execution_count": 12,
     "metadata": {},
     "output_type": "execute_result"
    }
   ],
   "source": [
    "pd=pd.DataFrame({\"Prediction\": predictions, \"Scaled Prediction\":predictions_scaled, \"Actual\": y_test})\n",
    "pd.head()"
   ]
  },
  {
   "cell_type": "markdown",
   "id": "ff437f56",
   "metadata": {},
   "source": [
    "### Undersampling"
   ]
  },
  {
   "cell_type": "code",
   "execution_count": 13,
   "id": "abf48e3c",
   "metadata": {},
   "outputs": [],
   "source": [
    "from collections import Counter\n",
    "from imblearn.under_sampling import RandomUnderSampler"
   ]
  },
  {
   "cell_type": "code",
   "execution_count": 14,
   "id": "77f716d3",
   "metadata": {},
   "outputs": [
    {
     "data": {
      "text/plain": [
       "Counter({1: 886, 0: 2256})"
      ]
     },
     "execution_count": 14,
     "metadata": {},
     "output_type": "execute_result"
    }
   ],
   "source": [
    "Counter(y)"
   ]
  },
  {
   "cell_type": "code",
   "execution_count": 15,
   "id": "1a1899e4",
   "metadata": {},
   "outputs": [
    {
     "data": {
      "text/plain": [
       "Counter({0: 667, 1: 667})"
      ]
     },
     "execution_count": 15,
     "metadata": {},
     "output_type": "execute_result"
    }
   ],
   "source": [
    "rus = RandomUnderSampler(random_state=1)\n",
    "X_resampled, y_resampled = rus.fit_resample(X_train, y_train)\n",
    "Counter(y_resampled)"
   ]
  },
  {
   "cell_type": "code",
   "execution_count": 16,
   "id": "d17ba71d",
   "metadata": {},
   "outputs": [
    {
     "name": "stdout",
     "output_type": "stream",
     "text": [
      " Resampled logistic regression model accuracy: 0.721\n"
     ]
    },
    {
     "data": {
      "text/plain": [
       "array([[567,   0],\n",
       "       [219,   0]])"
      ]
     },
     "execution_count": 16,
     "metadata": {},
     "output_type": "execute_result"
    }
   ],
   "source": [
    "# Retry Logistic Regression with undersampled data\n",
    "model.fit(X_resampled, y_resampled)\n",
    "y_pred_resamp = model.predict(X_test)\n",
    "print(f\" Resampled logistic regression model accuracy: {accuracy_score(y_test,y_pred_resamp):.3f}\")\n",
    "confusion_matrix(y_test, y_pred_resamp)"
   ]
  },
  {
   "cell_type": "markdown",
   "id": "1e0467d6",
   "metadata": {},
   "source": [
    "### SVM"
   ]
  },
  {
   "cell_type": "code",
   "execution_count": 17,
   "id": "a38c97c7",
   "metadata": {},
   "outputs": [
    {
     "name": "stdout",
     "output_type": "stream",
     "text": [
      " SVM model accuracy: 0.823\n"
     ]
    },
    {
     "data": {
      "text/plain": [
       "array([[533,  34],\n",
       "       [105, 114]])"
      ]
     },
     "execution_count": 17,
     "metadata": {},
     "output_type": "execute_result"
    }
   ],
   "source": [
    "# Create the SVM model\n",
    "svm = SVC(kernel='linear')\n",
    "\n",
    "# Train the model\n",
    "svm.fit(X_train_scaled, y_train)\n",
    "\n",
    "# Evaluate the model\n",
    "y_pred_svm = svm.predict(X_test_scaled)\n",
    "print(f\" SVM model accuracy: {accuracy_score(y_test,y_pred_svm):.3f}\")\n",
    "\n",
    "confusion_matrix(y_test, y_pred_svm)"
   ]
  },
  {
   "cell_type": "code",
   "execution_count": 18,
   "id": "7aaec955",
   "metadata": {},
   "outputs": [
    {
     "name": "stdout",
     "output_type": "stream",
     "text": [
      " SVM model accuracy: 0.823\n"
     ]
    },
    {
     "data": {
      "text/plain": [
       "array([[529,  38],\n",
       "       [101, 118]])"
      ]
     },
     "execution_count": 18,
     "metadata": {},
     "output_type": "execute_result"
    }
   ],
   "source": [
    "# Create the SVM model\n",
    "svm_rbf = SVC()\n",
    "\n",
    "# Train the model\n",
    "svm_rbf.fit(X_train_scaled, y_train)\n",
    "\n",
    "# Evaluate the model\n",
    "y_pred_svmrbf = svm_rbf.predict(X_test_scaled)\n",
    "print(f\" SVM model accuracy: {accuracy_score(y_test,y_pred_svmrbf):.3f}\")\n",
    "\n",
    "confusion_matrix(y_test, y_pred_svmrbf)"
   ]
  },
  {
   "cell_type": "markdown",
   "id": "cfbbe8b8",
   "metadata": {},
   "source": [
    "### Random Forest"
   ]
  },
  {
   "cell_type": "code",
   "execution_count": 19,
   "id": "14962507",
   "metadata": {},
   "outputs": [],
   "source": [
    "# Create Random Forest Classifier model\n",
    "rf_model = RandomForestClassifier(n_estimators=100, random_state=78) "
   ]
  },
  {
   "cell_type": "code",
   "execution_count": 20,
   "id": "2b7f447a",
   "metadata": {},
   "outputs": [
    {
     "name": "stdout",
     "output_type": "stream",
     "text": [
      "Random Forest model accuracy: 0.822\n"
     ]
    }
   ],
   "source": [
    "# Fitting the model\n",
    "rf_model = rf_model.fit(X_train_scaled, y_train)\n",
    "# Making predictions using the testing data.\n",
    "rf_y_pred = rf_model.predict(X_test_scaled)\n",
    "# Evaluate the model\n",
    "print(f\"Random Forest model accuracy: {accuracy_score(y_test,rf_y_pred):.3f}\")"
   ]
  },
  {
   "cell_type": "code",
   "execution_count": 21,
   "id": "942efb35",
   "metadata": {},
   "outputs": [
    {
     "data": {
      "text/plain": [
       "array([[511,  56],\n",
       "       [ 84, 135]])"
      ]
     },
     "execution_count": 21,
     "metadata": {},
     "output_type": "execute_result"
    }
   ],
   "source": [
    "confusion_matrix(y_test,rf_y_pred)"
   ]
  },
  {
   "cell_type": "code",
   "execution_count": 21,
   "id": "4dcd1942",
   "metadata": {},
   "outputs": [
    {
     "data": {
      "text/plain": [
       "array([0.04668019, 0.90476039, 0.01152447, 0.00612747, 0.00951762,\n",
       "       0.011283  , 0.01010687])"
      ]
     },
     "execution_count": 21,
     "metadata": {},
     "output_type": "execute_result"
    }
   ],
   "source": [
    "rf_model.feature_importances_\n"
   ]
  },
  {
   "cell_type": "markdown",
   "id": "1dd7136f",
   "metadata": {},
   "source": [
    "### Neural Network"
   ]
  },
  {
   "cell_type": "code",
   "execution_count": 22,
   "id": "c521ea0e",
   "metadata": {},
   "outputs": [],
   "source": [
    "import tensorflow as tf"
   ]
  },
  {
   "cell_type": "code",
   "execution_count": 23,
   "id": "310d4357",
   "metadata": {},
   "outputs": [
    {
     "name": "stdout",
     "output_type": "stream",
     "text": [
      "Epoch 1/50\n",
      "74/74 [==============================] - 1s 1ms/step - loss: 0.6152 - accuracy: 0.7339\n",
      "Epoch 2/50\n",
      "74/74 [==============================] - 0s 1ms/step - loss: 0.5277 - accuracy: 0.7916\n",
      "Epoch 3/50\n",
      "74/74 [==============================] - 0s 1ms/step - loss: 0.4750 - accuracy: 0.8077\n",
      "Epoch 4/50\n",
      "74/74 [==============================] - 0s 1ms/step - loss: 0.4390 - accuracy: 0.8162\n",
      "Epoch 5/50\n",
      "74/74 [==============================] - 0s 1ms/step - loss: 0.4136 - accuracy: 0.8217\n",
      "Epoch 6/50\n",
      "74/74 [==============================] - 0s 1ms/step - loss: 0.3959 - accuracy: 0.8251\n",
      "Epoch 7/50\n",
      "74/74 [==============================] - 0s 1ms/step - loss: 0.3838 - accuracy: 0.8277\n",
      "Epoch 8/50\n",
      "74/74 [==============================] - 0s 1ms/step - loss: 0.3755 - accuracy: 0.8281\n",
      "Epoch 9/50\n",
      "74/74 [==============================] - 0s 1ms/step - loss: 0.3698 - accuracy: 0.8268\n",
      "Epoch 10/50\n",
      "74/74 [==============================] - 0s 1ms/step - loss: 0.3660 - accuracy: 0.8256\n",
      "Epoch 11/50\n",
      "74/74 [==============================] - 0s 1ms/step - loss: 0.3631 - accuracy: 0.8260\n",
      "Epoch 12/50\n",
      "74/74 [==============================] - 0s 1ms/step - loss: 0.3608 - accuracy: 0.8256\n",
      "Epoch 13/50\n",
      "74/74 [==============================] - 0s 1ms/step - loss: 0.3598 - accuracy: 0.8251\n",
      "Epoch 14/50\n",
      "74/74 [==============================] - 0s 1ms/step - loss: 0.3591 - accuracy: 0.8268\n",
      "Epoch 15/50\n",
      "74/74 [==============================] - 0s 1ms/step - loss: 0.3579 - accuracy: 0.8277\n",
      "Epoch 16/50\n",
      "74/74 [==============================] - 0s 1ms/step - loss: 0.3575 - accuracy: 0.8264\n",
      "Epoch 17/50\n",
      "74/74 [==============================] - 0s 1ms/step - loss: 0.3570 - accuracy: 0.8268\n",
      "Epoch 18/50\n",
      "74/74 [==============================] - 0s 1ms/step - loss: 0.3566 - accuracy: 0.8268\n",
      "Epoch 19/50\n",
      "74/74 [==============================] - 0s 1ms/step - loss: 0.3562 - accuracy: 0.8239\n",
      "Epoch 20/50\n",
      "74/74 [==============================] - 0s 1ms/step - loss: 0.3557 - accuracy: 0.8285\n",
      "Epoch 21/50\n",
      "74/74 [==============================] - 0s 1ms/step - loss: 0.3553 - accuracy: 0.8264\n",
      "Epoch 22/50\n",
      "74/74 [==============================] - 0s 2ms/step - loss: 0.3549 - accuracy: 0.8260\n",
      "Epoch 23/50\n",
      "74/74 [==============================] - 0s 1ms/step - loss: 0.3543 - accuracy: 0.8281\n",
      "Epoch 24/50\n",
      "74/74 [==============================] - 0s 2ms/step - loss: 0.3542 - accuracy: 0.8277\n",
      "Epoch 25/50\n",
      "74/74 [==============================] - 0s 2ms/step - loss: 0.3538 - accuracy: 0.8277\n",
      "Epoch 26/50\n",
      "74/74 [==============================] - 0s 1ms/step - loss: 0.3532 - accuracy: 0.8272\n",
      "Epoch 27/50\n",
      "74/74 [==============================] - 0s 2ms/step - loss: 0.3529 - accuracy: 0.8272\n",
      "Epoch 28/50\n",
      "74/74 [==============================] - 0s 2ms/step - loss: 0.3526 - accuracy: 0.8268\n",
      "Epoch 29/50\n",
      "74/74 [==============================] - 0s 1ms/step - loss: 0.3523 - accuracy: 0.8302\n",
      "Epoch 30/50\n",
      "74/74 [==============================] - 0s 1ms/step - loss: 0.3521 - accuracy: 0.8294\n",
      "Epoch 31/50\n",
      "74/74 [==============================] - 0s 1ms/step - loss: 0.3515 - accuracy: 0.8281\n",
      "Epoch 32/50\n",
      "74/74 [==============================] - 0s 1ms/step - loss: 0.3511 - accuracy: 0.8285\n",
      "Epoch 33/50\n",
      "74/74 [==============================] - 0s 1ms/step - loss: 0.3510 - accuracy: 0.8285\n",
      "Epoch 34/50\n",
      "74/74 [==============================] - 0s 1ms/step - loss: 0.3507 - accuracy: 0.8289\n",
      "Epoch 35/50\n",
      "74/74 [==============================] - 0s 1ms/step - loss: 0.3503 - accuracy: 0.8277\n",
      "Epoch 36/50\n",
      "74/74 [==============================] - 0s 1ms/step - loss: 0.3499 - accuracy: 0.8285\n",
      "Epoch 37/50\n",
      "74/74 [==============================] - 0s 1ms/step - loss: 0.3502 - accuracy: 0.8298\n",
      "Epoch 38/50\n",
      "74/74 [==============================] - 0s 1ms/step - loss: 0.3498 - accuracy: 0.8285\n",
      "Epoch 39/50\n",
      "74/74 [==============================] - 0s 1ms/step - loss: 0.3495 - accuracy: 0.8289\n",
      "Epoch 40/50\n",
      "74/74 [==============================] - 0s 1ms/step - loss: 0.3490 - accuracy: 0.8277\n",
      "Epoch 41/50\n",
      "74/74 [==============================] - 0s 1ms/step - loss: 0.3492 - accuracy: 0.8306\n",
      "Epoch 42/50\n",
      "74/74 [==============================] - 0s 2ms/step - loss: 0.3484 - accuracy: 0.8294\n",
      "Epoch 43/50\n",
      "74/74 [==============================] - 0s 1ms/step - loss: 0.3481 - accuracy: 0.8285\n",
      "Epoch 44/50\n",
      "74/74 [==============================] - 0s 1ms/step - loss: 0.3481 - accuracy: 0.8294\n",
      "Epoch 45/50\n",
      "74/74 [==============================] - 0s 1ms/step - loss: 0.3476 - accuracy: 0.8298\n",
      "Epoch 46/50\n",
      "74/74 [==============================] - 0s 2ms/step - loss: 0.3474 - accuracy: 0.8315\n",
      "Epoch 47/50\n",
      "74/74 [==============================] - 0s 1ms/step - loss: 0.3469 - accuracy: 0.8294\n",
      "Epoch 48/50\n",
      "74/74 [==============================] - 0s 1ms/step - loss: 0.3469 - accuracy: 0.8272\n",
      "Epoch 49/50\n",
      "74/74 [==============================] - 0s 1ms/step - loss: 0.3463 - accuracy: 0.8319\n",
      "Epoch 50/50\n",
      "74/74 [==============================] - 0s 2ms/step - loss: 0.3463 - accuracy: 0.8315\n",
      "25/25 - 0s - loss: 0.3618 - accuracy: 0.8219\n",
      "Loss: 0.3618180453777313, Accuracy: 0.821882963180542\n"
     ]
    }
   ],
   "source": [
    "# Define neural network model\n",
    "nn_model = tf.keras.models.Sequential()\n",
    "nn_model.add(tf.keras.layers.Dense(units=14, activation=\"relu\", input_dim=6))\n",
    "#nn_model.add(tf.keras.layers.Dense(units=6, activation=\"relu\"))\n",
    "nn_model.add(tf.keras.layers.Dense(units=1, activation=\"sigmoid\"))\n",
    "\n",
    "# Compile the Sequential model together and customize metrics\n",
    "nn_model.compile(loss=\"binary_crossentropy\", optimizer=\"adam\", metrics=[\"accuracy\"])\n",
    "\n",
    "# Train the model\n",
    "fit_model = nn_model.fit(X_train_scaled, y_train, epochs=50)\n",
    "\n",
    "# Evaluate the model using the test data\n",
    "model_loss, model_accuracy = nn_model.evaluate(X_test_scaled,y_test,verbose=2)\n",
    "print(f\"Loss: {model_loss}, Accuracy: {model_accuracy}\")"
   ]
  },
  {
   "cell_type": "code",
   "execution_count": 24,
   "id": "d80b7c1e",
   "metadata": {},
   "outputs": [
    {
     "name": "stdout",
     "output_type": "stream",
     "text": [
      "Logistic Regression: 0.721\n",
      "Scaled Logistic Regression: 0.821\n",
      "Undersampled Logistic Regression: 0.721\n",
      "SVM Accuracy: 0.823\n"
     ]
    }
   ],
   "source": [
    "print(f'Logistic Regression: {accuracy_score(y_test,y_pred):.3f}')\n",
    "print(f'Scaled Logistic Regression: {accuracy_score(y_test,y_pred_scaled):.3f}')\n",
    "print(f'Undersampled Logistic Regression: {accuracy_score(y_test,y_pred_resamp):.3f}')\n",
    "print(f'SVM Accuracy: {accuracy_score(y_test,y_pred_svm):.3f}')"
   ]
  }
 ],
 "metadata": {
  "interpreter": {
   "hash": "86969af4118fd2beaee010b14a97d3c8fe7dc31ff55f1528eea7eaecb45368d6"
  },
  "kernelspec": {
   "display_name": "mlenv",
   "language": "python",
   "name": "mlenv"
  },
  "language_info": {
   "codemirror_mode": {
    "name": "ipython",
    "version": 3
   },
   "file_extension": ".py",
   "mimetype": "text/x-python",
   "name": "python",
   "nbconvert_exporter": "python",
   "pygments_lexer": "ipython3",
   "version": "3.7.10"
  }
 },
 "nbformat": 4,
 "nbformat_minor": 5
}
