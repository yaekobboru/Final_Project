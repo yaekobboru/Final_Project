{
 "cells": [
  {
   "cell_type": "code",
   "execution_count": 1,
   "id": "657c2de7",
   "metadata": {},
   "outputs": [],
   "source": [
    "import pandas as pd\n",
    "from sklearn.linear_model import LogisticRegression\n",
    "from sklearn.model_selection import train_test_split\n",
    "from sklearn.preprocessing import StandardScaler\n",
    "from sklearn.metrics import confusion_matrix\n",
    "from sklearn.metrics import accuracy_score\n",
    "from sklearn.ensemble import RandomForestClassifier\n",
    "from sklearn.svm import SVC\n",
    "import statsmodels.api as sm"
   ]
  },
  {
   "cell_type": "markdown",
   "id": "f71b08fe",
   "metadata": {},
   "source": [
    "# Read the CSV and Perform Basic Data Cleaning"
   ]
  },
  {
   "cell_type": "code",
   "execution_count": 2,
   "id": "21497e48",
   "metadata": {},
   "outputs": [
    {
     "data": {
      "text/plain": [
       "CensusTract             int64\n",
       "state_county           object\n",
       "Urban                   int64\n",
       "Pop2010                 int64\n",
       "OHU2010                 int64\n",
       "PovertyRate           float64\n",
       "MedianFamilyIncome    float64\n",
       "TractLOWI             float64\n",
       "LA1and10                int64\n",
       "dtype: object"
      ]
     },
     "execution_count": 2,
     "metadata": {},
     "output_type": "execute_result"
    }
   ],
   "source": [
    "# Load the data\n",
    "file = 'FoodAccess.csv'\n",
    "df = pd.read_csv(file)\n",
    "# check data type\n",
    "df.dtypes "
   ]
  },
  {
   "cell_type": "code",
   "execution_count": 3,
   "id": "b29ebc20",
   "metadata": {},
   "outputs": [
    {
     "name": "stdout",
     "output_type": "stream",
     "text": [
      "Column CensusTract has 0 null values\n",
      "Column state_county has 0 null values\n",
      "Column Urban has 0 null values\n",
      "Column Pop2010 has 0 null values\n",
      "Column OHU2010 has 0 null values\n",
      "Column PovertyRate has 3 null values\n",
      "Column MedianFamilyIncome has 748 null values\n",
      "Column TractLOWI has 4 null values\n",
      "Column LA1and10 has 0 null values\n"
     ]
    }
   ],
   "source": [
    "# Find null values\n",
    "for column in df.columns :\n",
    "    print(f\"Column {column} has {df[column].isnull().sum()} null values\")"
   ]
  },
  {
   "cell_type": "code",
   "execution_count": 4,
   "id": "d3bc1d8f",
   "metadata": {},
   "outputs": [],
   "source": [
    "# Remove null rows\n",
    "#--Median Family Income has 748 null values which is 1.04%. This figure is insignificant compared to the importance of the\n",
    "#feature towards prediction. So we deciide to drop null values than remove the column.\n",
    "df=df.dropna()"
   ]
  },
  {
   "cell_type": "code",
   "execution_count": 5,
   "id": "1fac3d0b",
   "metadata": {},
   "outputs": [
    {
     "name": "stdout",
     "output_type": "stream",
     "text": [
      "Duplicate entries: 0\n"
     ]
    }
   ],
   "source": [
    "#Find duplicate entries\n",
    "print(f\"Duplicate entries: {df.duplicated().sum()}\")"
   ]
  },
  {
   "cell_type": "markdown",
   "id": "262dd318",
   "metadata": {},
   "source": [
    "# Define Model"
   ]
  },
  {
   "cell_type": "code",
   "execution_count": 6,
   "id": "dbd2cb13",
   "metadata": {},
   "outputs": [],
   "source": [
    "# Create features\n",
    "X = df.drop(columns=['CensusTract','state_county',\"LA1and10\"]) \n",
    "\n",
    "# Create target\n",
    "y = df[\"LA1and10\"]\n",
    "\n",
    "# Split model\n",
    "X_train, X_test, y_train, y_test = train_test_split(X,\n",
    "    y, random_state=1)\n",
    "\n",
    "# Create a StandardScaler instance\n",
    "scaler = StandardScaler()\n",
    "\n",
    "# Fit the StandardScaler\n",
    "X_scaler = scaler.fit(X_train)\n",
    "\n",
    "# Scale the data\n",
    "X_train_scaled = X_scaler.transform(X_train)\n",
    "X_test_scaled = X_scaler.transform(X_test)\n"
   ]
  },
  {
   "cell_type": "markdown",
   "id": "b802d638",
   "metadata": {},
   "source": [
    "### Logistic Regression"
   ]
  },
  {
   "cell_type": "code",
   "execution_count": 7,
   "id": "6b25c2ff",
   "metadata": {},
   "outputs": [
    {
     "name": "stdout",
     "output_type": "stream",
     "text": [
      " Logistic regression model accuracy: 0.646\n"
     ]
    }
   ],
   "source": [
    "# Define model-sklearn\n",
    "model = LogisticRegression(solver='lbfgs', random_state=1)\n",
    "# fit model\n",
    "\n",
    "# Fit model\n",
    "model.fit(X_train, y_train)\n",
    "# make predictions on the entire training dataset\n",
    "predictions = model.predict(X_test)\n",
    "\n",
    "# Evaluate the model\n",
    "y_pred = model.predict(X_test)\n",
    "print(f\" Logistic regression model accuracy: {accuracy_score(y_test,y_pred):.3f}\")"
   ]
  },
  {
   "cell_type": "code",
   "execution_count": 8,
   "id": "d38901af",
   "metadata": {},
   "outputs": [
    {
     "data": {
      "text/plain": [
       "array([[10141,  1006],\n",
       "       [ 5343,  1456]])"
      ]
     },
     "execution_count": 8,
     "metadata": {},
     "output_type": "execute_result"
    }
   ],
   "source": [
    "cm_logreg = confusion_matrix(y_test,y_pred)\n",
    "cm_logreg"
   ]
  },
  {
   "cell_type": "code",
   "execution_count": 9,
   "id": "0d2175ee",
   "metadata": {},
   "outputs": [
    {
     "name": "stdout",
     "output_type": "stream",
     "text": [
      " Logistic regression model accuracy: 0.687\n"
     ]
    }
   ],
   "source": [
    "#Run Logistic Regression on scaled data\n",
    "# Fit model\n",
    "model.fit(X_train_scaled, y_train)\n",
    "# make predictions on the entire training dataset\n",
    "predictions_scaled = model.predict(X_test_scaled)\n",
    "\n",
    "# Evaluate the model\n",
    "y_pred_scaled = model.predict(X_test_scaled)\n",
    "print(f\" Logistic regression model accuracy: {accuracy_score(y_test,y_pred_scaled):.3f}\")"
   ]
  },
  {
   "cell_type": "code",
   "execution_count": 10,
   "id": "02822a74",
   "metadata": {},
   "outputs": [
    {
     "data": {
      "text/plain": [
       "array([[9760, 1387],\n",
       "       [4223, 2576]])"
      ]
     },
     "execution_count": 10,
     "metadata": {},
     "output_type": "execute_result"
    }
   ],
   "source": [
    "confusion_matrix(y_test,y_pred_scaled)"
   ]
  },
  {
   "cell_type": "code",
   "execution_count": 11,
   "id": "103f3de5",
   "metadata": {},
   "outputs": [
    {
     "data": {
      "text/html": [
       "<div>\n",
       "<style scoped>\n",
       "    .dataframe tbody tr th:only-of-type {\n",
       "        vertical-align: middle;\n",
       "    }\n",
       "\n",
       "    .dataframe tbody tr th {\n",
       "        vertical-align: top;\n",
       "    }\n",
       "\n",
       "    .dataframe thead th {\n",
       "        text-align: right;\n",
       "    }\n",
       "</style>\n",
       "<table border=\"1\" class=\"dataframe\">\n",
       "  <thead>\n",
       "    <tr style=\"text-align: right;\">\n",
       "      <th></th>\n",
       "      <th>Prediction</th>\n",
       "      <th>Scaled Prediction</th>\n",
       "      <th>Actual</th>\n",
       "    </tr>\n",
       "  </thead>\n",
       "  <tbody>\n",
       "    <tr>\n",
       "      <th>11117</th>\n",
       "      <td>0</td>\n",
       "      <td>1</td>\n",
       "      <td>1</td>\n",
       "    </tr>\n",
       "    <tr>\n",
       "      <th>55918</th>\n",
       "      <td>0</td>\n",
       "      <td>1</td>\n",
       "      <td>1</td>\n",
       "    </tr>\n",
       "    <tr>\n",
       "      <th>49258</th>\n",
       "      <td>0</td>\n",
       "      <td>0</td>\n",
       "      <td>0</td>\n",
       "    </tr>\n",
       "    <tr>\n",
       "      <th>58139</th>\n",
       "      <td>1</td>\n",
       "      <td>1</td>\n",
       "      <td>1</td>\n",
       "    </tr>\n",
       "    <tr>\n",
       "      <th>41461</th>\n",
       "      <td>0</td>\n",
       "      <td>1</td>\n",
       "      <td>1</td>\n",
       "    </tr>\n",
       "  </tbody>\n",
       "</table>\n",
       "</div>"
      ],
      "text/plain": [
       "       Prediction  Scaled Prediction  Actual\n",
       "11117           0                  1       1\n",
       "55918           0                  1       1\n",
       "49258           0                  0       0\n",
       "58139           1                  1       1\n",
       "41461           0                  1       1"
      ]
     },
     "execution_count": 11,
     "metadata": {},
     "output_type": "execute_result"
    }
   ],
   "source": [
    "pd=pd.DataFrame({\"Prediction\": predictions, \"Scaled Prediction\":predictions_scaled, \"Actual\": y_test})\n",
    "pd.head()"
   ]
  },
  {
   "cell_type": "code",
   "execution_count": 12,
   "id": "8635fd4f",
   "metadata": {},
   "outputs": [
    {
     "name": "stdout",
     "output_type": "stream",
     "text": [
      "Optimization terminated successfully.\n",
      "         Current function value: 0.640126\n",
      "         Iterations 5\n",
      "                           Logit Regression Results                           \n",
      "==============================================================================\n",
      "Dep. Variable:               LA1and10   No. Observations:                53836\n",
      "Model:                          Logit   Df Residuals:                    53830\n",
      "Method:                           MLE   Df Model:                            5\n",
      "Date:                Thu, 18 Nov 2021   Pseudo R-squ.:                 0.03638\n",
      "Time:                        20:09:10   Log-Likelihood:                -34462.\n",
      "converged:                       True   LL-Null:                       -35763.\n",
      "Covariance Type:            nonrobust   LLR p-value:                     0.000\n",
      "==============================================================================\n",
      "                 coef    std err          z      P>|z|      [0.025      0.975]\n",
      "------------------------------------------------------------------------------\n",
      "x1             0.5188      0.010     53.192      0.000       0.500       0.538\n",
      "x2             0.7032      0.027     26.499      0.000       0.651       0.755\n",
      "x3            -0.0845      0.022     -3.804      0.000      -0.128      -0.041\n",
      "x4            -0.1392      0.014     -9.706      0.000      -0.167      -0.111\n",
      "x5            -0.2073      0.014    -15.055      0.000      -0.234      -0.180\n",
      "x6            -0.4306      0.018    -23.396      0.000      -0.467      -0.394\n",
      "==============================================================================\n"
     ]
    }
   ],
   "source": [
    "# Run Logistic Regression on scaled data using stats model\n",
    "# Fit model\n",
    "smodel = sm.Logit(y_train, X_train_scaled).fit()\n",
    "# print summary table\n",
    "print(smodel.summary())"
   ]
  },
  {
   "cell_type": "code",
   "execution_count": 13,
   "id": "fb0b7b0f",
   "metadata": {},
   "outputs": [
    {
     "name": "stdout",
     "output_type": "stream",
     "text": [
      " Logistic regression model accuracy: 0.627\n"
     ]
    }
   ],
   "source": [
    "# Evaluate the model\n",
    "sy_pred = smodel.predict(X_test_scaled)\n",
    "sprediction = list(map(round, sy_pred))\n",
    "print(f\" Logistic regression model accuracy: {accuracy_score(y_test,sprediction):.3f}\")"
   ]
  },
  {
   "cell_type": "code",
   "execution_count": 14,
   "id": "e2078040",
   "metadata": {},
   "outputs": [
    {
     "data": {
      "text/plain": [
       "array([[6506, 4641],\n",
       "       [2054, 4745]])"
      ]
     },
     "execution_count": 14,
     "metadata": {},
     "output_type": "execute_result"
    }
   ],
   "source": [
    "confusion_matrix(y_test,sprediction)"
   ]
  },
  {
   "cell_type": "code",
   "execution_count": 15,
   "id": "85cd4fbf",
   "metadata": {},
   "outputs": [
    {
     "data": {
      "text/plain": [
       "x1    0.537887\n",
       "x2    0.755263\n",
       "x3   -0.040950\n",
       "x4   -0.111059\n",
       "x5   -0.180324\n",
       "x6   -0.394490\n",
       "Name: 1, dtype: float64"
      ]
     },
     "execution_count": 15,
     "metadata": {},
     "output_type": "execute_result"
    }
   ],
   "source": [
    "feature_importances=smodel.conf_int()[1]\n",
    "feature_importances"
   ]
  },
  {
   "cell_type": "markdown",
   "id": "ff437f56",
   "metadata": {},
   "source": [
    "### Undersampling"
   ]
  },
  {
   "cell_type": "code",
   "execution_count": 16,
   "id": "abf48e3c",
   "metadata": {},
   "outputs": [],
   "source": [
    "from collections import Counter\n",
    "from imblearn.under_sampling import RandomUnderSampler"
   ]
  },
  {
   "cell_type": "code",
   "execution_count": 17,
   "id": "77f716d3",
   "metadata": {},
   "outputs": [
    {
     "data": {
      "text/plain": [
       "Counter({1: 27282, 0: 44500})"
      ]
     },
     "execution_count": 17,
     "metadata": {},
     "output_type": "execute_result"
    }
   ],
   "source": [
    "Counter(y)"
   ]
  },
  {
   "cell_type": "code",
   "execution_count": 18,
   "id": "1a1899e4",
   "metadata": {},
   "outputs": [
    {
     "data": {
      "text/plain": [
       "Counter({0: 20483, 1: 20483})"
      ]
     },
     "execution_count": 18,
     "metadata": {},
     "output_type": "execute_result"
    }
   ],
   "source": [
    "rus = RandomUnderSampler(random_state=1)\n",
    "X_resampled, y_resampled = rus.fit_resample(X_train, y_train)\n",
    "Counter(y_resampled)"
   ]
  },
  {
   "cell_type": "code",
   "execution_count": 19,
   "id": "d17ba71d",
   "metadata": {},
   "outputs": [
    {
     "name": "stdout",
     "output_type": "stream",
     "text": [
      " Resampled logistic regression model accuracy: 0.597\n"
     ]
    },
    {
     "data": {
      "text/plain": [
       "array([[6772, 4375],\n",
       "       [2860, 3939]])"
      ]
     },
     "execution_count": 19,
     "metadata": {},
     "output_type": "execute_result"
    }
   ],
   "source": [
    "# Retry Logistic Regression with undersampled data\n",
    "model.fit(X_resampled, y_resampled)\n",
    "y_pred_resamp = model.predict(X_test)\n",
    "print(f\" Resampled logistic regression model accuracy: {accuracy_score(y_test,y_pred_resamp):.3f}\")\n",
    "confusion_matrix(y_test, y_pred_resamp)"
   ]
  },
  {
   "cell_type": "markdown",
   "id": "f998e8ea",
   "metadata": {},
   "source": [
    "### SMOTEEN"
   ]
  },
  {
   "cell_type": "code",
   "execution_count": 20,
   "id": "8e49e9d8",
   "metadata": {},
   "outputs": [
    {
     "data": {
      "text/plain": [
       "Counter({0: 11753, 1: 17491})"
      ]
     },
     "execution_count": 20,
     "metadata": {},
     "output_type": "execute_result"
    }
   ],
   "source": [
    "# Use the SMOTEENN technique to perform combination sampling on the data\n",
    "# Count the resampled classes\n",
    "from imblearn.combine import SMOTEENN\n",
    "\n",
    "smote_enn = SMOTEENN(random_state=0)\n",
    "X_resampled, y_resampled = smote_enn.fit_resample(X, y)\n",
    "Counter(y_resampled)"
   ]
  },
  {
   "cell_type": "code",
   "execution_count": 21,
   "id": "f62f970e",
   "metadata": {},
   "outputs": [],
   "source": [
    "st_model = LogisticRegression(solver='lbfgs', random_state=1)\n",
    "st_model.fit(X_resampled, y_resampled)\n",
    "st_y_pred = st_model.predict(X_test)"
   ]
  },
  {
   "cell_type": "code",
   "execution_count": 22,
   "id": "37eafda9",
   "metadata": {},
   "outputs": [
    {
     "name": "stdout",
     "output_type": "stream",
     "text": [
      " SMOTEEN logistic regression model accuracy: 0.597\n"
     ]
    },
    {
     "data": {
      "text/plain": [
       "array([[4894, 6253],\n",
       "       [1939, 4860]])"
      ]
     },
     "execution_count": 22,
     "metadata": {},
     "output_type": "execute_result"
    }
   ],
   "source": [
    "print(f\"SMOTEEN logistic regression model accuracy: {accuracy_score(y_test,y_pred_resamp):.3f}\")\n",
    "confusion_matrix(y_test, st_y_pred)"
   ]
  },
  {
   "cell_type": "markdown",
   "id": "1e0467d6",
   "metadata": {},
   "source": [
    "### SVM"
   ]
  },
  {
   "cell_type": "code",
   "execution_count": 32,
   "id": "a38c97c7",
   "metadata": {},
   "outputs": [
    {
     "name": "stdout",
     "output_type": "stream",
     "text": [
      " SVM model accuracy: 0.675\n"
     ]
    },
    {
     "data": {
      "text/plain": [
       "array([[10324,   823],\n",
       "       [ 5012,  1787]])"
      ]
     },
     "execution_count": 32,
     "metadata": {},
     "output_type": "execute_result"
    }
   ],
   "source": [
    "# Create the SVM model\n",
    "svm = SVC(kernel='linear')\n",
    "\n",
    "# Train the model\n",
    "svm.fit(X_train_scaled, y_train)\n",
    "\n",
    "# Evaluate the model\n",
    "y_pred_svm = svm.predict(X_test_scaled)\n",
    "print(f\" SVM model accuracy: {accuracy_score(y_test,y_pred_svm):.3f}\")\n",
    "\n",
    "confusion_matrix(y_test, y_pred_svm)"
   ]
  },
  {
   "cell_type": "code",
   "execution_count": 33,
   "id": "7aaec955",
   "metadata": {},
   "outputs": [
    {
     "name": "stdout",
     "output_type": "stream",
     "text": [
      " SVM model accuracy: 0.698\n"
     ]
    },
    {
     "data": {
      "text/plain": [
       "array([[9684, 1463],\n",
       "       [3952, 2847]])"
      ]
     },
     "execution_count": 33,
     "metadata": {},
     "output_type": "execute_result"
    }
   ],
   "source": [
    "# Create the SVM model\n",
    "svm_rbf = SVC()\n",
    "\n",
    "# Train the model\n",
    "svm_rbf.fit(X_train_scaled, y_train)\n",
    "\n",
    "# Evaluate the model\n",
    "y_pred_svmrbf = svm_rbf.predict(X_test_scaled)\n",
    "print(f\" SVM model accuracy: {accuracy_score(y_test,y_pred_svmrbf):.3f}\")\n",
    "\n",
    "confusion_matrix(y_test, y_pred_svmrbf)"
   ]
  },
  {
   "cell_type": "markdown",
   "id": "cfbbe8b8",
   "metadata": {},
   "source": [
    "### Random Forest"
   ]
  },
  {
   "cell_type": "code",
   "execution_count": 40,
   "id": "14962507",
   "metadata": {},
   "outputs": [],
   "source": [
    "# Create Random Forest Classifier model\n",
    "rf_model = RandomForestClassifier(n_estimators=128, random_state=78) "
   ]
  },
  {
   "cell_type": "code",
   "execution_count": 41,
   "id": "2b7f447a",
   "metadata": {},
   "outputs": [
    {
     "name": "stdout",
     "output_type": "stream",
     "text": [
      "Random Forest model accuracy: 0.691\n"
     ]
    }
   ],
   "source": [
    "# Fitting the model\n",
    "rf_model = rf_model.fit(X_train_scaled, y_train)\n",
    "# Making predictions using the testing data.\n",
    "rf_y_pred = rf_model.predict(X_test_scaled)\n",
    "# Evaluate the model\n",
    "print(f\"Random Forest model accuracy: {accuracy_score(y_test,rf_y_pred):.3f}\")"
   ]
  },
  {
   "cell_type": "code",
   "execution_count": 27,
   "id": "942efb35",
   "metadata": {},
   "outputs": [
    {
     "data": {
      "text/plain": [
       "array([[9207, 1940],\n",
       "       [3620, 3179]])"
      ]
     },
     "execution_count": 27,
     "metadata": {},
     "output_type": "execute_result"
    }
   ],
   "source": [
    "confusion_matrix(y_test,rf_y_pred)"
   ]
  },
  {
   "cell_type": "code",
   "execution_count": 28,
   "id": "4dcd1942",
   "metadata": {},
   "outputs": [
    {
     "data": {
      "text/plain": [
       "array([0.06572456, 0.20359398, 0.19739847, 0.17111248, 0.18675653,\n",
       "       0.17541399])"
      ]
     },
     "execution_count": 28,
     "metadata": {},
     "output_type": "execute_result"
    }
   ],
   "source": [
    "rf_model.feature_importances_\n"
   ]
  },
  {
   "cell_type": "markdown",
   "id": "1dd7136f",
   "metadata": {},
   "source": [
    "### Neural Network"
   ]
  },
  {
   "cell_type": "code",
   "execution_count": 29,
   "id": "c521ea0e",
   "metadata": {},
   "outputs": [],
   "source": [
    "import tensorflow as tf"
   ]
  },
  {
   "cell_type": "code",
   "execution_count": 30,
   "id": "310d4357",
   "metadata": {},
   "outputs": [
    {
     "name": "stdout",
     "output_type": "stream",
     "text": [
      "Epoch 1/50\n",
      "1683/1683 [==============================] - 3s 1ms/step - loss: 0.6038 - accuracy: 0.6798\n",
      "Epoch 2/50\n",
      "1683/1683 [==============================] - 2s 1ms/step - loss: 0.5837 - accuracy: 0.6944\n",
      "Epoch 3/50\n",
      "1683/1683 [==============================] - 2s 1ms/step - loss: 0.5766 - accuracy: 0.7003\n",
      "Epoch 4/50\n",
      "1683/1683 [==============================] - 2s 1ms/step - loss: 0.5744 - accuracy: 0.7008\n",
      "Epoch 5/50\n",
      "1683/1683 [==============================] - 2s 1ms/step - loss: 0.5728 - accuracy: 0.7007\n",
      "Epoch 6/50\n",
      "1683/1683 [==============================] - 2s 1ms/step - loss: 0.5723 - accuracy: 0.7023\n",
      "Epoch 7/50\n",
      "1683/1683 [==============================] - 2s 1ms/step - loss: 0.5715 - accuracy: 0.7024\n",
      "Epoch 8/50\n",
      "1683/1683 [==============================] - 2s 1ms/step - loss: 0.5710 - accuracy: 0.7021\n",
      "Epoch 9/50\n",
      "1683/1683 [==============================] - 2s 1ms/step - loss: 0.5708 - accuracy: 0.7020\n",
      "Epoch 10/50\n",
      "1683/1683 [==============================] - 2s 1ms/step - loss: 0.5702 - accuracy: 0.7028: 0s - l\n",
      "Epoch 11/50\n",
      "1683/1683 [==============================] - 2s 1ms/step - loss: 0.5699 - accuracy: 0.7034\n",
      "Epoch 12/50\n",
      "1683/1683 [==============================] - 2s 1ms/step - loss: 0.5698 - accuracy: 0.7025\n",
      "Epoch 13/50\n",
      "1683/1683 [==============================] - 2s 1ms/step - loss: 0.5697 - accuracy: 0.7027\n",
      "Epoch 14/50\n",
      "1683/1683 [==============================] - 2s 1ms/step - loss: 0.5694 - accuracy: 0.7021\n",
      "Epoch 15/50\n",
      "1683/1683 [==============================] - 2s 1ms/step - loss: 0.5690 - accuracy: 0.7034: 0s - l\n",
      "Epoch 16/50\n",
      "1683/1683 [==============================] - 2s 1ms/step - loss: 0.5689 - accuracy: 0.7027\n",
      "Epoch 17/50\n",
      "1683/1683 [==============================] - 2s 1ms/step - loss: 0.5691 - accuracy: 0.7027: 0s - loss: 0.5684 - accuracy: 0. - ETA: 0s - loss: 0.5689 \n",
      "Epoch 18/50\n",
      "1683/1683 [==============================] - 3s 2ms/step - loss: 0.5688 - accuracy: 0.7038\n",
      "Epoch 19/50\n",
      "1683/1683 [==============================] - 2s 1ms/step - loss: 0.5686 - accuracy: 0.7033\n",
      "Epoch 20/50\n",
      "1683/1683 [==============================] - 2s 1ms/step - loss: 0.5685 - accuracy: 0.7042\n",
      "Epoch 21/50\n",
      "1683/1683 [==============================] - 2s 1ms/step - loss: 0.5685 - accuracy: 0.7049\n",
      "Epoch 22/50\n",
      "1683/1683 [==============================] - 2s 1ms/step - loss: 0.5685 - accuracy: 0.7036\n",
      "Epoch 23/50\n",
      "1683/1683 [==============================] - 2s 1ms/step - loss: 0.5682 - accuracy: 0.7037\n",
      "Epoch 24/50\n",
      "1683/1683 [==============================] - 2s 1ms/step - loss: 0.5682 - accuracy: 0.7037\n",
      "Epoch 25/50\n",
      "1683/1683 [==============================] - 2s 1ms/step - loss: 0.5679 - accuracy: 0.7039\n",
      "Epoch 26/50\n",
      "1683/1683 [==============================] - 2s 1ms/step - loss: 0.5680 - accuracy: 0.7042\n",
      "Epoch 27/50\n",
      "1683/1683 [==============================] - 3s 2ms/step - loss: 0.5678 - accuracy: 0.7039\n",
      "Epoch 28/50\n",
      "1683/1683 [==============================] - 2s 1ms/step - loss: 0.5681 - accuracy: 0.7037\n",
      "Epoch 29/50\n",
      "1683/1683 [==============================] - 2s 1ms/step - loss: 0.5676 - accuracy: 0.7043\n",
      "Epoch 30/50\n",
      "1683/1683 [==============================] - 2s 1ms/step - loss: 0.5679 - accuracy: 0.7047\n",
      "Epoch 31/50\n",
      "1683/1683 [==============================] - 2s 1ms/step - loss: 0.5676 - accuracy: 0.7044\n",
      "Epoch 32/50\n",
      "1683/1683 [==============================] - 2s 1ms/step - loss: 0.5677 - accuracy: 0.7037\n",
      "Epoch 33/50\n",
      "1683/1683 [==============================] - 2s 1ms/step - loss: 0.5673 - accuracy: 0.7043\n",
      "Epoch 34/50\n",
      "1683/1683 [==============================] - 2s 1ms/step - loss: 0.5672 - accuracy: 0.7047\n",
      "Epoch 35/50\n",
      "1683/1683 [==============================] - 2s 1ms/step - loss: 0.5675 - accuracy: 0.7043\n",
      "Epoch 36/50\n",
      "1683/1683 [==============================] - 2s 1ms/step - loss: 0.5674 - accuracy: 0.7050\n",
      "Epoch 37/50\n",
      "1683/1683 [==============================] - 2s 1ms/step - loss: 0.5670 - accuracy: 0.7044\n",
      "Epoch 38/50\n",
      "1683/1683 [==============================] - 2s 1ms/step - loss: 0.5670 - accuracy: 0.7039\n",
      "Epoch 39/50\n",
      "1683/1683 [==============================] - 2s 1ms/step - loss: 0.5671 - accuracy: 0.7040\n",
      "Epoch 40/50\n",
      "1683/1683 [==============================] - 2s 1ms/step - loss: 0.5672 - accuracy: 0.7043\n",
      "Epoch 41/50\n",
      "1683/1683 [==============================] - 2s 1ms/step - loss: 0.5666 - accuracy: 0.7037\n",
      "Epoch 42/50\n",
      "1683/1683 [==============================] - 2s 1ms/step - loss: 0.5671 - accuracy: 0.7041\n",
      "Epoch 43/50\n",
      "1683/1683 [==============================] - 2s 1ms/step - loss: 0.5670 - accuracy: 0.7038\n",
      "Epoch 44/50\n",
      "1683/1683 [==============================] - 2s 1ms/step - loss: 0.5670 - accuracy: 0.7030\n",
      "Epoch 45/50\n",
      "1683/1683 [==============================] - 2s 1ms/step - loss: 0.5668 - accuracy: 0.7039\n",
      "Epoch 46/50\n",
      "1683/1683 [==============================] - 2s 1ms/step - loss: 0.5666 - accuracy: 0.7040\n",
      "Epoch 47/50\n",
      "1683/1683 [==============================] - 2s 1ms/step - loss: 0.5666 - accuracy: 0.7041\n",
      "Epoch 48/50\n",
      "1683/1683 [==============================] - 2s 1ms/step - loss: 0.5669 - accuracy: 0.7046\n",
      "Epoch 49/50\n",
      "1683/1683 [==============================] - 2s 1ms/step - loss: 0.5666 - accuracy: 0.7042\n",
      "Epoch 50/50\n",
      "1683/1683 [==============================] - 2s 1ms/step - loss: 0.5665 - accuracy: 0.7044\n",
      "561/561 - 1s - loss: 0.5699 - accuracy: 0.7038\n",
      "Loss: 0.5699369311332703, Accuracy: 0.7038336992263794\n"
     ]
    }
   ],
   "source": [
    "# Define neural network model\n",
    "nn_model = tf.keras.models.Sequential()\n",
    "nn_model.add(tf.keras.layers.Dense(units=15, activation=\"relu\", input_dim=6))\n",
    "nn_model.add(tf.keras.layers.Dense(units=6, activation=\"relu\"))\n",
    "nn_model.add(tf.keras.layers.Dense(units=1, activation=\"sigmoid\"))\n",
    "\n",
    "# Compile the Sequential model together and customize metrics\n",
    "nn_model.compile(loss=\"binary_crossentropy\", optimizer=\"adam\", metrics=[\"accuracy\"])\n",
    "\n",
    "# Train the model\n",
    "fit_model = nn_model.fit(X_train_scaled, y_train, epochs=50)\n",
    "\n",
    "# Evaluate the model using the test data\n",
    "model_loss, model_accuracy = nn_model.evaluate(X_test_scaled,y_test,verbose=2)\n",
    "print(f\"Loss: {model_loss}, Accuracy: {model_accuracy}\")"
   ]
  },
  {
   "cell_type": "code",
   "execution_count": 42,
   "id": "d80b7c1e",
   "metadata": {},
   "outputs": [
    {
     "name": "stdout",
     "output_type": "stream",
     "text": [
      "Logistic Regression: 0.646\n",
      "Scaled Logistic Regression: 0.687\n",
      "Stats model Logistic regression model accuracy: 0.627\n",
      "Undersampled Logistic Regression: 0.597\n",
      "SMOTEEN logistic regression model accuracy: 0.597\n",
      "SVM Accuracy: 0.675\n",
      "SVM-rbf model accuracy: 0.698\n",
      "Random Forest model accuracy: 0.691\n",
      "Neural Net Loss: 0.5699369311332703, Accuracy: 0.7038336992263794\n"
     ]
    }
   ],
   "source": [
    "print(f'Logistic Regression: {accuracy_score(y_test,y_pred):.3f}')\n",
    "print(f'Scaled Logistic Regression: {accuracy_score(y_test,y_pred_scaled):.3f}')\n",
    "print(f\"Stats model Logistic regression model accuracy: {accuracy_score(y_test,sprediction):.3f}\")\n",
    "print(f'Undersampled Logistic Regression: {accuracy_score(y_test,y_pred_resamp):.3f}')\n",
    "print(f\"SMOTEEN logistic regression model accuracy: {accuracy_score(y_test,y_pred_resamp):.3f}\")\n",
    "print(f'SVM Accuracy: {accuracy_score(y_test,y_pred_svm):.3f}')\n",
    "print(f\"SVM-rbf model accuracy: {accuracy_score(y_test,y_pred_svmrbf):.3f}\")\n",
    "print(f\"Random Forest model accuracy: {accuracy_score(y_test,rf_y_pred):.3f}\")\n",
    "print(f\"Neural Net Loss: {model_loss}, Accuracy: {model_accuracy}\")"
   ]
  }
 ],
 "metadata": {
  "interpreter": {
   "hash": "86969af4118fd2beaee010b14a97d3c8fe7dc31ff55f1528eea7eaecb45368d6"
  },
  "kernelspec": {
   "display_name": "mlenv",
   "language": "python",
   "name": "mlenv"
  },
  "language_info": {
   "codemirror_mode": {
    "name": "ipython",
    "version": 3
   },
   "file_extension": ".py",
   "mimetype": "text/x-python",
   "name": "python",
   "nbconvert_exporter": "python",
   "pygments_lexer": "ipython3",
   "version": "3.7.10"
  }
 },
 "nbformat": 4,
 "nbformat_minor": 5
}
