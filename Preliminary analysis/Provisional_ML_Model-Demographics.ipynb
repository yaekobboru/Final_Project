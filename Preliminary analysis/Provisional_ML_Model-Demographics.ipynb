{
 "cells": [
  {
   "cell_type": "code",
   "execution_count": 1,
   "id": "657c2de7",
   "metadata": {},
   "outputs": [],
   "source": [
    "import pandas as pd\n",
    "from sklearn.linear_model import LogisticRegression\n",
    "from sklearn.model_selection import train_test_split\n",
    "from sklearn.preprocessing import StandardScaler\n",
    "from sklearn.metrics import confusion_matrix\n",
    "from sklearn.metrics import accuracy_score\n",
    "from sklearn.ensemble import RandomForestClassifier\n",
    "from sklearn.svm import SVC\n",
    "import statsmodels.api as sm"
   ]
  },
  {
   "cell_type": "markdown",
   "id": "f71b08fe",
   "metadata": {},
   "source": [
    "# Read the CSV and Perform Basic Data Cleaning"
   ]
  },
  {
   "cell_type": "code",
   "execution_count": 2,
   "id": "21497e48",
   "metadata": {},
   "outputs": [
    {
     "data": {
      "text/plain": [
       "CensusTract             int64\n",
       "Pop2010                 int64\n",
       "MedianFamilyIncome    float64\n",
       "PovertyRate           float64\n",
       "PctWhite              float64\n",
       "PctBlack              float64\n",
       "PctAsian              float64\n",
       "PctHispanic           float64\n",
       "PctOtherMinority      float64\n",
       "LA1and10                int64\n",
       "dtype: object"
      ]
     },
     "execution_count": 2,
     "metadata": {},
     "output_type": "execute_result"
    }
   ],
   "source": [
    "# Load the data\n",
    "file = 'FoodAccessDemographics.csv'\n",
    "df = pd.read_csv(file)\n",
    "# check data type\n",
    "df.dtypes "
   ]
  },
  {
   "cell_type": "code",
   "execution_count": 3,
   "id": "b29ebc20",
   "metadata": {},
   "outputs": [
    {
     "name": "stdout",
     "output_type": "stream",
     "text": [
      "Column CensusTract has 0 null values\n",
      "Column Pop2010 has 0 null values\n",
      "Column MedianFamilyIncome has 748 null values\n",
      "Column PovertyRate has 3 null values\n",
      "Column PctWhite has 4 null values\n",
      "Column PctBlack has 4 null values\n",
      "Column PctAsian has 4 null values\n",
      "Column PctHispanic has 4 null values\n",
      "Column PctOtherMinority has 4 null values\n",
      "Column LA1and10 has 0 null values\n"
     ]
    }
   ],
   "source": [
    "# Find null values\n",
    "for column in df.columns :\n",
    "    print(f\"Column {column} has {df[column].isnull().sum()} null values\")"
   ]
  },
  {
   "cell_type": "code",
   "execution_count": 4,
   "id": "d3bc1d8f",
   "metadata": {},
   "outputs": [],
   "source": [
    "# Remove null rows\n",
    "#--Median Family Income has 748 null values which is 1.04%. This figure is insignificant compared to the importance of the\n",
    "#feature towards prediction. So we deciide to drop null values than remove the column.\n",
    "df=df.dropna()"
   ]
  },
  {
   "cell_type": "code",
   "execution_count": 5,
   "id": "1fac3d0b",
   "metadata": {},
   "outputs": [
    {
     "name": "stdout",
     "output_type": "stream",
     "text": [
      "Duplicate entries: 0\n"
     ]
    }
   ],
   "source": [
    "#Find duplicate entries\n",
    "print(f\"Duplicate entries: {df.duplicated().sum()}\")"
   ]
  },
  {
   "cell_type": "markdown",
   "id": "262dd318",
   "metadata": {},
   "source": [
    "# Define Model"
   ]
  },
  {
   "cell_type": "code",
   "execution_count": 6,
   "id": "dbd2cb13",
   "metadata": {},
   "outputs": [],
   "source": [
    "# Create features\n",
    "X = df.drop(columns=['CensusTract',\"LA1and10\"]) \n",
    "\n",
    "# Create target\n",
    "y = df[\"LA1and10\"]\n",
    "\n",
    "# Split model\n",
    "X_train, X_test, y_train, y_test = train_test_split(X,\n",
    "    y, random_state=1)\n",
    "\n",
    "# Create a StandardScaler instance\n",
    "scaler = StandardScaler()\n",
    "\n",
    "# Fit the StandardScaler\n",
    "X_scaler = scaler.fit(X_train)\n",
    "\n",
    "# Scale the data\n",
    "X_train_scaled = X_scaler.transform(X_train)\n",
    "X_test_scaled = X_scaler.transform(X_test)\n"
   ]
  },
  {
   "cell_type": "markdown",
   "id": "b802d638",
   "metadata": {},
   "source": [
    "### Logistic Regression"
   ]
  },
  {
   "cell_type": "code",
   "execution_count": 7,
   "id": "6b25c2ff",
   "metadata": {},
   "outputs": [
    {
     "name": "stdout",
     "output_type": "stream",
     "text": [
      " Logistic regression model accuracy: 0.640\n"
     ]
    }
   ],
   "source": [
    "# Define model-sklearn\n",
    "model = LogisticRegression(solver='lbfgs', random_state=1)\n",
    "# fit model\n",
    "\n",
    "# Fit model\n",
    "model.fit(X_train, y_train)\n",
    "# make predictions on the entire training dataset\n",
    "predictions = model.predict(X_test)\n",
    "\n",
    "# Evaluate the model\n",
    "y_pred = model.predict(X_test)\n",
    "print(f\" Logistic regression model accuracy: {accuracy_score(y_test,y_pred):.3f}\")"
   ]
  },
  {
   "cell_type": "code",
   "execution_count": 8,
   "id": "d38901af",
   "metadata": {},
   "outputs": [
    {
     "data": {
      "text/plain": [
       "array([[10363,   784],\n",
       "       [ 5681,  1118]])"
      ]
     },
     "execution_count": 8,
     "metadata": {},
     "output_type": "execute_result"
    }
   ],
   "source": [
    "cm_logreg = confusion_matrix(y_test,y_pred)\n",
    "cm_logreg"
   ]
  },
  {
   "cell_type": "code",
   "execution_count": 9,
   "id": "0d2175ee",
   "metadata": {},
   "outputs": [
    {
     "name": "stdout",
     "output_type": "stream",
     "text": [
      " Logistic regression model accuracy: 0.652\n"
     ]
    }
   ],
   "source": [
    "#Run Logistic Regression on scaled data\n",
    "# Fit model\n",
    "model.fit(X_train_scaled, y_train)\n",
    "# make predictions on the entire training dataset\n",
    "predictions_scaled = model.predict(X_test_scaled)\n",
    "\n",
    "# Evaluate the model\n",
    "y_pred_scaled = model.predict(X_test_scaled)\n",
    "print(f\" Logistic regression model accuracy: {accuracy_score(y_test,y_pred_scaled):.3f}\")"
   ]
  },
  {
   "cell_type": "code",
   "execution_count": 10,
   "id": "02822a74",
   "metadata": {},
   "outputs": [
    {
     "data": {
      "text/plain": [
       "array([[9919, 1228],\n",
       "       [5015, 1784]])"
      ]
     },
     "execution_count": 10,
     "metadata": {},
     "output_type": "execute_result"
    }
   ],
   "source": [
    "confusion_matrix(y_test,y_pred_scaled)"
   ]
  },
  {
   "cell_type": "code",
   "execution_count": 11,
   "id": "103f3de5",
   "metadata": {},
   "outputs": [
    {
     "data": {
      "text/html": [
       "<div>\n",
       "<style scoped>\n",
       "    .dataframe tbody tr th:only-of-type {\n",
       "        vertical-align: middle;\n",
       "    }\n",
       "\n",
       "    .dataframe tbody tr th {\n",
       "        vertical-align: top;\n",
       "    }\n",
       "\n",
       "    .dataframe thead th {\n",
       "        text-align: right;\n",
       "    }\n",
       "</style>\n",
       "<table border=\"1\" class=\"dataframe\">\n",
       "  <thead>\n",
       "    <tr style=\"text-align: right;\">\n",
       "      <th></th>\n",
       "      <th>Prediction</th>\n",
       "      <th>Scaled Prediction</th>\n",
       "      <th>Actual</th>\n",
       "    </tr>\n",
       "  </thead>\n",
       "  <tbody>\n",
       "    <tr>\n",
       "      <th>11117</th>\n",
       "      <td>0</td>\n",
       "      <td>0</td>\n",
       "      <td>1</td>\n",
       "    </tr>\n",
       "    <tr>\n",
       "      <th>55918</th>\n",
       "      <td>0</td>\n",
       "      <td>1</td>\n",
       "      <td>1</td>\n",
       "    </tr>\n",
       "    <tr>\n",
       "      <th>49258</th>\n",
       "      <td>0</td>\n",
       "      <td>0</td>\n",
       "      <td>0</td>\n",
       "    </tr>\n",
       "    <tr>\n",
       "      <th>58139</th>\n",
       "      <td>1</td>\n",
       "      <td>1</td>\n",
       "      <td>1</td>\n",
       "    </tr>\n",
       "    <tr>\n",
       "      <th>41461</th>\n",
       "      <td>0</td>\n",
       "      <td>0</td>\n",
       "      <td>1</td>\n",
       "    </tr>\n",
       "  </tbody>\n",
       "</table>\n",
       "</div>"
      ],
      "text/plain": [
       "       Prediction  Scaled Prediction  Actual\n",
       "11117           0                  0       1\n",
       "55918           0                  1       1\n",
       "49258           0                  0       0\n",
       "58139           1                  1       1\n",
       "41461           0                  0       1"
      ]
     },
     "execution_count": 11,
     "metadata": {},
     "output_type": "execute_result"
    }
   ],
   "source": [
    "pd=pd.DataFrame({\"Prediction\": predictions, \"Scaled Prediction\":predictions_scaled, \"Actual\": y_test})\n",
    "pd.head()"
   ]
  },
  {
   "cell_type": "code",
   "execution_count": 12,
   "id": "8635fd4f",
   "metadata": {},
   "outputs": [
    {
     "name": "stdout",
     "output_type": "stream",
     "text": [
      "Warning: Maximum number of iterations has been exceeded.\n",
      "         Current function value: 0.657651\n",
      "         Iterations: 35\n",
      "                           Logit Regression Results                           \n",
      "==============================================================================\n",
      "Dep. Variable:               LA1and10   No. Observations:                53836\n",
      "Model:                          Logit   Df Residuals:                    53828\n",
      "Method:                           MLE   Df Model:                            7\n",
      "Date:                Thu, 18 Nov 2021   Pseudo R-squ.:                 0.01000\n",
      "Time:                        19:14:14   Log-Likelihood:                -35405.\n",
      "converged:                      False   LL-Null:                       -35763.\n",
      "Covariance Type:            nonrobust   LLR p-value:                3.458e-150\n",
      "==============================================================================\n",
      "                 coef    std err          z      P>|z|      [0.025      0.975]\n",
      "------------------------------------------------------------------------------\n",
      "x1             0.4207      0.010     41.590      0.000       0.401       0.441\n",
      "x2             0.1101      0.013      8.795      0.000       0.086       0.135\n",
      "x3            -0.0818      0.013     -6.213      0.000      -0.108      -0.056\n",
      "x4             0.0451   3.97e+05   1.14e-07      1.000   -7.77e+05    7.77e+05\n",
      "x5             0.0335   3.43e+05   9.76e-08      1.000   -6.72e+05    6.72e+05\n",
      "x6            -0.2124    1.3e+05  -1.63e-06      1.000   -2.55e+05    2.55e+05\n",
      "x7            -0.2515      0.015    -16.988      0.000      -0.280      -0.222\n",
      "x8            -0.0098   1.76e+05  -5.53e-08      1.000   -3.46e+05    3.46e+05\n",
      "==============================================================================\n"
     ]
    },
    {
     "name": "stderr",
     "output_type": "stream",
     "text": [
      "/opt/anaconda3/envs/mlenv/lib/python3.7/site-packages/statsmodels/base/model.py:568: ConvergenceWarning: Maximum Likelihood optimization failed to converge. Check mle_retvals\n",
      "  ConvergenceWarning)\n"
     ]
    }
   ],
   "source": [
    "# Run Logistic Regression on scaled data using stats model\n",
    "# Fit model\n",
    "smodel = sm.Logit(y_train, X_train_scaled).fit()\n",
    "# print summary table\n",
    "print(smodel.summary())"
   ]
  },
  {
   "cell_type": "code",
   "execution_count": 13,
   "id": "fb0b7b0f",
   "metadata": {},
   "outputs": [
    {
     "name": "stdout",
     "output_type": "stream",
     "text": [
      " Logistic regression model accuracy: 0.606\n"
     ]
    }
   ],
   "source": [
    "# Evaluate the model\n",
    "sy_pred = smodel.predict(X_test_scaled)\n",
    "sprediction = list(map(round, sy_pred))\n",
    "print(f\" Logistic regression model accuracy: {accuracy_score(y_test,sprediction):.3f}\")"
   ]
  },
  {
   "cell_type": "code",
   "execution_count": 14,
   "id": "e2078040",
   "metadata": {},
   "outputs": [
    {
     "data": {
      "text/plain": [
       "array([[6492, 4655],\n",
       "       [2422, 4377]])"
      ]
     },
     "execution_count": 14,
     "metadata": {},
     "output_type": "execute_result"
    }
   ],
   "source": [
    "confusion_matrix(y_test,sprediction)"
   ]
  },
  {
   "cell_type": "code",
   "execution_count": 15,
   "id": "85cd4fbf",
   "metadata": {},
   "outputs": [
    {
     "data": {
      "text/plain": [
       "x1         0.440564\n",
       "x2         0.134688\n",
       "x3        -0.056024\n",
       "x4    777189.739651\n",
       "x5    672246.343908\n",
       "x6    255190.276934\n",
       "x7        -0.222458\n",
       "x8    345693.676833\n",
       "Name: 1, dtype: float64"
      ]
     },
     "execution_count": 15,
     "metadata": {},
     "output_type": "execute_result"
    }
   ],
   "source": [
    "feature_importances=smodel.conf_int()[1]\n",
    "feature_importances"
   ]
  },
  {
   "cell_type": "markdown",
   "id": "ff437f56",
   "metadata": {},
   "source": [
    "### Undersampling"
   ]
  },
  {
   "cell_type": "code",
   "execution_count": 16,
   "id": "abf48e3c",
   "metadata": {},
   "outputs": [],
   "source": [
    "from collections import Counter\n",
    "from imblearn.under_sampling import RandomUnderSampler"
   ]
  },
  {
   "cell_type": "code",
   "execution_count": 17,
   "id": "77f716d3",
   "metadata": {},
   "outputs": [
    {
     "data": {
      "text/plain": [
       "Counter({1: 27282, 0: 44500})"
      ]
     },
     "execution_count": 17,
     "metadata": {},
     "output_type": "execute_result"
    }
   ],
   "source": [
    "Counter(y)"
   ]
  },
  {
   "cell_type": "code",
   "execution_count": 18,
   "id": "1a1899e4",
   "metadata": {},
   "outputs": [
    {
     "data": {
      "text/plain": [
       "Counter({0: 20483, 1: 20483})"
      ]
     },
     "execution_count": 18,
     "metadata": {},
     "output_type": "execute_result"
    }
   ],
   "source": [
    "rus = RandomUnderSampler(random_state=1)\n",
    "X_resampled, y_resampled = rus.fit_resample(X_train, y_train)\n",
    "Counter(y_resampled)"
   ]
  },
  {
   "cell_type": "code",
   "execution_count": 19,
   "id": "d17ba71d",
   "metadata": {},
   "outputs": [
    {
     "name": "stdout",
     "output_type": "stream",
     "text": [
      " Resampled logistic regression model accuracy: 0.576\n"
     ]
    },
    {
     "data": {
      "text/plain": [
       "array([[5986, 5161],\n",
       "       [2444, 4355]])"
      ]
     },
     "execution_count": 19,
     "metadata": {},
     "output_type": "execute_result"
    }
   ],
   "source": [
    "# Retry Logistic Regression with undersampled data\n",
    "model.fit(X_resampled, y_resampled)\n",
    "y_pred_resamp = model.predict(X_test)\n",
    "print(f\" Resampled logistic regression model accuracy: {accuracy_score(y_test,y_pred_resamp):.3f}\")\n",
    "confusion_matrix(y_test, y_pred_resamp)"
   ]
  },
  {
   "cell_type": "markdown",
   "id": "f998e8ea",
   "metadata": {},
   "source": [
    "### SMOTEEN"
   ]
  },
  {
   "cell_type": "code",
   "execution_count": 20,
   "id": "8e49e9d8",
   "metadata": {},
   "outputs": [
    {
     "data": {
      "text/plain": [
       "Counter({0: 11404, 1: 14126})"
      ]
     },
     "execution_count": 20,
     "metadata": {},
     "output_type": "execute_result"
    }
   ],
   "source": [
    "# Use the SMOTEENN technique to perform combination sampling on the data\n",
    "# Count the resampled classes\n",
    "from imblearn.combine import SMOTEENN\n",
    "\n",
    "smote_enn = SMOTEENN(random_state=0)\n",
    "X_resampled, y_resampled = smote_enn.fit_resample(X, y)\n",
    "Counter(y_resampled)"
   ]
  },
  {
   "cell_type": "code",
   "execution_count": 21,
   "id": "f62f970e",
   "metadata": {},
   "outputs": [],
   "source": [
    "st_model = LogisticRegression(solver='lbfgs', random_state=1)\n",
    "st_model.fit(X_resampled, y_resampled)\n",
    "st_y_pred = st_model.predict(X_test)"
   ]
  },
  {
   "cell_type": "code",
   "execution_count": 22,
   "id": "37eafda9",
   "metadata": {},
   "outputs": [
    {
     "name": "stdout",
     "output_type": "stream",
     "text": [
      " SMOTEEN logistic regression model accuracy: 0.576\n"
     ]
    },
    {
     "data": {
      "text/plain": [
       "array([[5112, 6035],\n",
       "       [2004, 4795]])"
      ]
     },
     "execution_count": 22,
     "metadata": {},
     "output_type": "execute_result"
    }
   ],
   "source": [
    "print(f\" SMOTEEN logistic regression model accuracy: {accuracy_score(y_test,y_pred_resamp):.3f}\")\n",
    "confusion_matrix(y_test, st_y_pred)"
   ]
  },
  {
   "cell_type": "markdown",
   "id": "1e0467d6",
   "metadata": {},
   "source": [
    "### SVM"
   ]
  },
  {
   "cell_type": "code",
   "execution_count": 29,
   "id": "a38c97c7",
   "metadata": {},
   "outputs": [
    {
     "name": "stdout",
     "output_type": "stream",
     "text": [
      " SVM model accuracy: 0.621\n"
     ]
    },
    {
     "data": {
      "text/plain": [
       "array([[11147,     0],\n",
       "       [ 6799,     0]])"
      ]
     },
     "execution_count": 29,
     "metadata": {},
     "output_type": "execute_result"
    }
   ],
   "source": [
    "# Create the SVM model\n",
    "svm = SVC(kernel='linear')\n",
    "\n",
    "# Train the model\n",
    "svm.fit(X_train_scaled, y_train)\n",
    "\n",
    "# Evaluate the model\n",
    "y_pred_svm = svm.predict(X_test_scaled)\n",
    "print(f\" SVM model accuracy: {accuracy_score(y_test,y_pred_svm):.3f}\")\n",
    "\n",
    "confusion_matrix(y_test, y_pred_svm)"
   ]
  },
  {
   "cell_type": "code",
   "execution_count": 30,
   "id": "7aaec955",
   "metadata": {},
   "outputs": [
    {
     "name": "stdout",
     "output_type": "stream",
     "text": [
      " SVM model accuracy: 0.667\n"
     ]
    },
    {
     "data": {
      "text/plain": [
       "array([[10257,   890],\n",
       "       [ 5089,  1710]])"
      ]
     },
     "execution_count": 30,
     "metadata": {},
     "output_type": "execute_result"
    }
   ],
   "source": [
    "# Create the SVM model\n",
    "svm_rbf = SVC()\n",
    "\n",
    "# Train the model\n",
    "svm_rbf.fit(X_train_scaled, y_train)\n",
    "\n",
    "# Evaluate the model\n",
    "y_pred_svmrbf = svm_rbf.predict(X_test_scaled)\n",
    "print(f\" SVM model accuracy: {accuracy_score(y_test,y_pred_svmrbf):.3f}\")\n",
    "\n",
    "confusion_matrix(y_test, y_pred_svmrbf)"
   ]
  },
  {
   "cell_type": "markdown",
   "id": "cfbbe8b8",
   "metadata": {},
   "source": [
    "### Random Forest"
   ]
  },
  {
   "cell_type": "code",
   "execution_count": 23,
   "id": "14962507",
   "metadata": {},
   "outputs": [],
   "source": [
    "# Create Random Forest Classifier model\n",
    "rf_model = RandomForestClassifier(n_estimators=100, random_state=78) "
   ]
  },
  {
   "cell_type": "code",
   "execution_count": 24,
   "id": "2b7f447a",
   "metadata": {},
   "outputs": [
    {
     "name": "stdout",
     "output_type": "stream",
     "text": [
      "Random Forest model accuracy: 0.671\n"
     ]
    }
   ],
   "source": [
    "# Fitting the model\n",
    "rf_model = rf_model.fit(X_train_scaled, y_train)\n",
    "# Making predictions using the testing data.\n",
    "rf_y_pred = rf_model.predict(X_test_scaled)\n",
    "# Evaluate the model\n",
    "print(f\"Random Forest model accuracy: {accuracy_score(y_test,rf_y_pred):.3f}\")"
   ]
  },
  {
   "cell_type": "code",
   "execution_count": 25,
   "id": "942efb35",
   "metadata": {},
   "outputs": [
    {
     "data": {
      "text/plain": [
       "array([[9378, 1769],\n",
       "       [4129, 2670]])"
      ]
     },
     "execution_count": 25,
     "metadata": {},
     "output_type": "execute_result"
    }
   ],
   "source": [
    "confusion_matrix(y_test,rf_y_pred)"
   ]
  },
  {
   "cell_type": "code",
   "execution_count": 26,
   "id": "4dcd1942",
   "metadata": {},
   "outputs": [
    {
     "data": {
      "text/plain": [
       "array([0.14987131, 0.11764574, 0.11644124, 0.12105239, 0.11580487,\n",
       "       0.13002688, 0.1258561 , 0.12330147])"
      ]
     },
     "execution_count": 26,
     "metadata": {},
     "output_type": "execute_result"
    }
   ],
   "source": [
    "rf_model.feature_importances_\n"
   ]
  },
  {
   "cell_type": "markdown",
   "id": "1dd7136f",
   "metadata": {},
   "source": [
    "### Neural Network"
   ]
  },
  {
   "cell_type": "code",
   "execution_count": 27,
   "id": "c521ea0e",
   "metadata": {},
   "outputs": [],
   "source": [
    "import tensorflow as tf"
   ]
  },
  {
   "cell_type": "code",
   "execution_count": 31,
   "id": "310d4357",
   "metadata": {},
   "outputs": [
    {
     "name": "stdout",
     "output_type": "stream",
     "text": [
      "Epoch 1/50\n",
      "1683/1683 [==============================] - 3s 1ms/step - loss: 0.6494 - accuracy: 0.6237\n",
      "Epoch 2/50\n",
      "1683/1683 [==============================] - 2s 1ms/step - loss: 0.6165 - accuracy: 0.6564\n",
      "Epoch 3/50\n",
      "1683/1683 [==============================] - 2s 1ms/step - loss: 0.6132 - accuracy: 0.6586\n",
      "Epoch 4/50\n",
      "1683/1683 [==============================] - 2s 1ms/step - loss: 0.6115 - accuracy: 0.6605\n",
      "Epoch 5/50\n",
      "1683/1683 [==============================] - 2s 1ms/step - loss: 0.6103 - accuracy: 0.6614\n",
      "Epoch 6/50\n",
      "1683/1683 [==============================] - 2s 1ms/step - loss: 0.6092 - accuracy: 0.6627\n",
      "Epoch 7/50\n",
      "1683/1683 [==============================] - 2s 1ms/step - loss: 0.6089 - accuracy: 0.6631: 0s - loss: 0.6090 - accuracy\n",
      "Epoch 8/50\n",
      "1683/1683 [==============================] - 2s 1ms/step - loss: 0.6084 - accuracy: 0.6625\n",
      "Epoch 9/50\n",
      "1683/1683 [==============================] - 2s 1ms/step - loss: 0.6082 - accuracy: 0.6626\n",
      "Epoch 10/50\n",
      "1683/1683 [==============================] - 2s 1ms/step - loss: 0.6077 - accuracy: 0.6632\n",
      "Epoch 11/50\n",
      "1683/1683 [==============================] - 2s 1ms/step - loss: 0.6074 - accuracy: 0.6644\n",
      "Epoch 12/50\n",
      "1683/1683 [==============================] - 2s 1ms/step - loss: 0.6074 - accuracy: 0.6645\n",
      "Epoch 13/50\n",
      "1683/1683 [==============================] - 2s 1ms/step - loss: 0.6069 - accuracy: 0.6651\n",
      "Epoch 14/50\n",
      "1683/1683 [==============================] - 2s 1ms/step - loss: 0.6067 - accuracy: 0.6645\n",
      "Epoch 15/50\n",
      "1683/1683 [==============================] - 2s 1ms/step - loss: 0.6066 - accuracy: 0.6646\n",
      "Epoch 16/50\n",
      "1683/1683 [==============================] - 2s 1ms/step - loss: 0.6063 - accuracy: 0.6654\n",
      "Epoch 17/50\n",
      "1683/1683 [==============================] - 2s 1ms/step - loss: 0.6064 - accuracy: 0.6660\n",
      "Epoch 18/50\n",
      "1683/1683 [==============================] - 2s 1ms/step - loss: 0.6062 - accuracy: 0.6661\n",
      "Epoch 19/50\n",
      "1683/1683 [==============================] - 2s 1ms/step - loss: 0.6060 - accuracy: 0.6655\n",
      "Epoch 20/50\n",
      "1683/1683 [==============================] - 2s 1ms/step - loss: 0.6057 - accuracy: 0.6667\n",
      "Epoch 21/50\n",
      "1683/1683 [==============================] - 2s 1ms/step - loss: 0.6055 - accuracy: 0.6662\n",
      "Epoch 22/50\n",
      "1683/1683 [==============================] - 2s 1ms/step - loss: 0.6051 - accuracy: 0.6670\n",
      "Epoch 23/50\n",
      "1683/1683 [==============================] - 2s 1ms/step - loss: 0.6052 - accuracy: 0.6670\n",
      "Epoch 24/50\n",
      "1683/1683 [==============================] - 2s 1ms/step - loss: 0.6051 - accuracy: 0.6672\n",
      "Epoch 25/50\n",
      "1683/1683 [==============================] - 2s 1ms/step - loss: 0.6047 - accuracy: 0.6670\n",
      "Epoch 26/50\n",
      "1683/1683 [==============================] - 2s 1ms/step - loss: 0.6047 - accuracy: 0.6671: 0s - loss: 0.6043 - accuracy\n",
      "Epoch 27/50\n",
      "1683/1683 [==============================] - 2s 1ms/step - loss: 0.6045 - accuracy: 0.6671\n",
      "Epoch 28/50\n",
      "1683/1683 [==============================] - 2s 1ms/step - loss: 0.6044 - accuracy: 0.6665\n",
      "Epoch 29/50\n",
      "1683/1683 [==============================] - 2s 1ms/step - loss: 0.6041 - accuracy: 0.6679\n",
      "Epoch 30/50\n",
      "1683/1683 [==============================] - 2s 1ms/step - loss: 0.6041 - accuracy: 0.6674\n",
      "Epoch 31/50\n",
      "1683/1683 [==============================] - 2s 1ms/step - loss: 0.6038 - accuracy: 0.6678\n",
      "Epoch 32/50\n",
      "1683/1683 [==============================] - 2s 1ms/step - loss: 0.6037 - accuracy: 0.6667\n",
      "Epoch 33/50\n",
      "1683/1683 [==============================] - 2s 1ms/step - loss: 0.6036 - accuracy: 0.6672\n",
      "Epoch 34/50\n",
      "1683/1683 [==============================] - 2s 1ms/step - loss: 0.6034 - accuracy: 0.6686\n",
      "Epoch 35/50\n",
      "1683/1683 [==============================] - 2s 1ms/step - loss: 0.6032 - accuracy: 0.6676\n",
      "Epoch 36/50\n",
      "1683/1683 [==============================] - 2s 1ms/step - loss: 0.6031 - accuracy: 0.6678\n",
      "Epoch 37/50\n",
      "1683/1683 [==============================] - 2s 1ms/step - loss: 0.6029 - accuracy: 0.6683\n",
      "Epoch 38/50\n",
      "1683/1683 [==============================] - 2s 1ms/step - loss: 0.6028 - accuracy: 0.6683\n",
      "Epoch 39/50\n",
      "1683/1683 [==============================] - 3s 2ms/step - loss: 0.6026 - accuracy: 0.6678: 0s - loss: 0.6031 - accuracy\n",
      "Epoch 40/50\n",
      "1683/1683 [==============================] - 2s 1ms/step - loss: 0.6024 - accuracy: 0.6695\n",
      "Epoch 41/50\n",
      "1683/1683 [==============================] - 2s 1ms/step - loss: 0.6024 - accuracy: 0.6685\n",
      "Epoch 42/50\n",
      "1683/1683 [==============================] - 2s 1ms/step - loss: 0.6024 - accuracy: 0.6692\n",
      "Epoch 43/50\n",
      "1683/1683 [==============================] - 2s 1ms/step - loss: 0.6023 - accuracy: 0.6693\n",
      "Epoch 44/50\n",
      "1683/1683 [==============================] - 2s 1ms/step - loss: 0.6022 - accuracy: 0.6684\n",
      "Epoch 45/50\n",
      "1683/1683 [==============================] - 2s 1ms/step - loss: 0.6022 - accuracy: 0.6696\n",
      "Epoch 46/50\n",
      "1683/1683 [==============================] - 2s 1ms/step - loss: 0.6020 - accuracy: 0.6695\n",
      "Epoch 47/50\n",
      "1683/1683 [==============================] - 2s 1ms/step - loss: 0.6020 - accuracy: 0.6692\n",
      "Epoch 48/50\n",
      "1683/1683 [==============================] - 2s 1ms/step - loss: 0.6021 - accuracy: 0.6690\n",
      "Epoch 49/50\n",
      "1683/1683 [==============================] - 2s 1ms/step - loss: 0.6018 - accuracy: 0.6688\n",
      "Epoch 50/50\n",
      "1683/1683 [==============================] - 2s 1ms/step - loss: 0.6019 - accuracy: 0.6693\n",
      "561/561 - 1s - loss: 0.5995 - accuracy: 0.6689\n",
      "Loss: 0.5995128750801086, Accuracy: 0.6688956022262573\n"
     ]
    }
   ],
   "source": [
    "# Define neural network model\n",
    "nn_model = tf.keras.models.Sequential()\n",
    "nn_model.add(tf.keras.layers.Dense(units=14, activation=\"relu\", input_dim=8))\n",
    "#nn_model.add(tf.keras.layers.Dense(units=6, activation=\"relu\"))\n",
    "nn_model.add(tf.keras.layers.Dense(units=1, activation=\"sigmoid\"))\n",
    "\n",
    "# Compile the Sequential model together and customize metrics\n",
    "nn_model.compile(loss=\"binary_crossentropy\", optimizer=\"adam\", metrics=[\"accuracy\"])\n",
    "\n",
    "# Train the model\n",
    "fit_model = nn_model.fit(X_train_scaled, y_train, epochs=50)\n",
    "\n",
    "# Evaluate the model using the test data\n",
    "model_loss, model_accuracy = nn_model.evaluate(X_test_scaled,y_test,verbose=2)\n",
    "print(f\"Loss: {model_loss}, Accuracy: {model_accuracy}\")"
   ]
  },
  {
   "cell_type": "code",
   "execution_count": 32,
   "id": "d80b7c1e",
   "metadata": {},
   "outputs": [
    {
     "name": "stdout",
     "output_type": "stream",
     "text": [
      "Logistic Regression: 0.640\n",
      "Scaled Logistic Regression: 0.652\n",
      "Undersampled Logistic Regression: 0.576\n",
      "SVM Accuracy: 0.621\n"
     ]
    }
   ],
   "source": [
    "print(f'Logistic Regression: {accuracy_score(y_test,y_pred):.3f}')\n",
    "print(f'Scaled Logistic Regression: {accuracy_score(y_test,y_pred_scaled):.3f}')\n",
    "print(f'Undersampled Logistic Regression: {accuracy_score(y_test,y_pred_resamp):.3f}')\n",
    "print(f'SVM Accuracy: {accuracy_score(y_test,y_pred_svm):.3f}')"
   ]
  }
 ],
 "metadata": {
  "interpreter": {
   "hash": "86969af4118fd2beaee010b14a97d3c8fe7dc31ff55f1528eea7eaecb45368d6"
  },
  "kernelspec": {
   "display_name": "mlenv",
   "language": "python",
   "name": "mlenv"
  },
  "language_info": {
   "codemirror_mode": {
    "name": "ipython",
    "version": 3
   },
   "file_extension": ".py",
   "mimetype": "text/x-python",
   "name": "python",
   "nbconvert_exporter": "python",
   "pygments_lexer": "ipython3",
   "version": "3.7.10"
  }
 },
 "nbformat": 4,
 "nbformat_minor": 5
}
